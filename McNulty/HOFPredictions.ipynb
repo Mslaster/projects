{
 "cells": [
  {
   "cell_type": "markdown",
   "metadata": {
    "collapsed": true
   },
   "source": [
    "## Predicting Which MLB Hitters Will be inducted into the Hall of Fame on First Ballot "
   ]
  },
  {
   "cell_type": "code",
   "execution_count": 1,
   "metadata": {
    "collapsed": true
   },
   "outputs": [],
   "source": [
    "from sqlalchemy import create_engine\n",
    "import pandas as pd\n",
    "import matplotlib.pyplot as plt\n",
    "import numpy as np\n",
    "import seaborn as sns"
   ]
  },
  {
   "cell_type": "code",
   "execution_count": 2,
   "metadata": {
    "collapsed": true
   },
   "outputs": [],
   "source": [
    "cnx = create_engine('postgresql://localhost/postgres')"
   ]
  },
  {
   "cell_type": "code",
   "execution_count": 3,
   "metadata": {
    "collapsed": false
   },
   "outputs": [
    {
     "data": {
      "text/plain": [
       "[u'halloffame', u'batting', u'appearances', u'master']"
      ]
     },
     "execution_count": 3,
     "metadata": {},
     "output_type": "execute_result"
    }
   ],
   "source": [
    "cnx.table_names()"
   ]
  },
  {
   "cell_type": "markdown",
   "metadata": {},
   "source": [
    "First, querying a local database for results of all players appearing on their first ballot for the HOF and merging with their classical baseball \"counting stats\""
   ]
  },
  {
   "cell_type": "code",
   "execution_count": 4,
   "metadata": {
    "collapsed": false
   },
   "outputs": [],
   "source": [
    "#All HOF ballots\n",
    "first_ballots=pd.read_sql_query('''SELECT a.playerid, a.yearid, a.inducted\n",
    "FROM halloffame as a\n",
    "INNER JOIN (SELECT playerid, MIN(yearid) as first\n",
    "FROM halloffame \n",
    "WHERE category='Player'\n",
    "AND votedby= 'BBWAA'\n",
    "GROUP BY playerid) as b\n",
    "ON a.playerid=b.playerid\n",
    "AND a.yearid=b.first''',cnx)"
   ]
  },
  {
   "cell_type": "code",
   "execution_count": 5,
   "metadata": {
    "collapsed": false
   },
   "outputs": [],
   "source": [
    "#Counting Stats\n",
    "batting=pd.read_sql_query('''SELECT playerid, SUM(g) as g, \n",
    "SUM(ab) as ab , SUM(r) as r, SUM(h) as h, SUM(h2b) as h2b, SUM(h3b) as h3b, \n",
    "SUM(hr) as hr, SUM(rbi) as rbi, SUM(sb) as sb, SUM(cs) as cs, SUM(bb) as bb,\n",
    "SUM(so) as so, SUM(ibb) as ibb, SUM(hbp) as hbp, SUM(sh) as sh,SUM(sf) as sf,SUM(gidp) as gidp\n",
    "FROM batting\n",
    "GROUP BY playerid''',cnx)"
   ]
  },
  {
   "cell_type": "code",
   "execution_count": 6,
   "metadata": {
    "collapsed": false
   },
   "outputs": [],
   "source": [
    "fb_batting=pd.merge(first_ballots,batting, on='playerid')"
   ]
  },
  {
   "cell_type": "markdown",
   "metadata": {},
   "source": [
    "Next, querying for positions played, and using only the highest occuring value"
   ]
  },
  {
   "cell_type": "code",
   "execution_count": 7,
   "metadata": {
    "collapsed": false
   },
   "outputs": [],
   "source": [
    "pos=pd.DataFrame(pd.read_sql_query('''SELECT * FROM appearances ''',cnx).groupby('playerid').sum()\\\n",
    "                 [['g_p','g_c','g_1b','g_2b','g_3b','g_ss','g_lf','g_cf','g_rf','g_dh']]\\\n",
    "                 .idxmax(axis=1).str.strip('g_'),columns=['pos'])"
   ]
  },
  {
   "cell_type": "code",
   "execution_count": 8,
   "metadata": {
    "collapsed": false
   },
   "outputs": [],
   "source": [
    "fb_batting=pd.merge(fb_batting,pos,left_on='playerid',right_index=True)"
   ]
  },
  {
   "cell_type": "code",
   "execution_count": 9,
   "metadata": {
    "collapsed": false
   },
   "outputs": [
    {
     "data": {
      "text/html": [
       "<div>\n",
       "<style>\n",
       "    .dataframe thead tr:only-child th {\n",
       "        text-align: right;\n",
       "    }\n",
       "\n",
       "    .dataframe thead th {\n",
       "        text-align: left;\n",
       "    }\n",
       "\n",
       "    .dataframe tbody tr th {\n",
       "        vertical-align: top;\n",
       "    }\n",
       "</style>\n",
       "<table border=\"1\" class=\"dataframe\">\n",
       "  <thead>\n",
       "    <tr style=\"text-align: right;\">\n",
       "      <th></th>\n",
       "      <th>playerid</th>\n",
       "      <th>yearid</th>\n",
       "      <th>inducted</th>\n",
       "      <th>g</th>\n",
       "      <th>ab</th>\n",
       "      <th>r</th>\n",
       "      <th>h</th>\n",
       "      <th>h2b</th>\n",
       "      <th>h3b</th>\n",
       "      <th>hr</th>\n",
       "      <th>...</th>\n",
       "      <th>sb</th>\n",
       "      <th>cs</th>\n",
       "      <th>bb</th>\n",
       "      <th>so</th>\n",
       "      <th>ibb</th>\n",
       "      <th>hbp</th>\n",
       "      <th>sh</th>\n",
       "      <th>sf</th>\n",
       "      <th>gidp</th>\n",
       "      <th>pos</th>\n",
       "    </tr>\n",
       "  </thead>\n",
       "  <tbody>\n",
       "    <tr>\n",
       "      <th>0</th>\n",
       "      <td>ramospe01</td>\n",
       "      <td>1978</td>\n",
       "      <td>N</td>\n",
       "      <td>696</td>\n",
       "      <td>703.0</td>\n",
       "      <td>76.0</td>\n",
       "      <td>109.0</td>\n",
       "      <td>9.0</td>\n",
       "      <td>3.0</td>\n",
       "      <td>15.0</td>\n",
       "      <td>...</td>\n",
       "      <td>2.0</td>\n",
       "      <td>2.0</td>\n",
       "      <td>22.0</td>\n",
       "      <td>316.0</td>\n",
       "      <td>0.0</td>\n",
       "      <td>2.0</td>\n",
       "      <td>41.0</td>\n",
       "      <td>2.0</td>\n",
       "      <td>5.0</td>\n",
       "      <td>p</td>\n",
       "    </tr>\n",
       "    <tr>\n",
       "      <th>1</th>\n",
       "      <td>pinielo01</td>\n",
       "      <td>1990</td>\n",
       "      <td>N</td>\n",
       "      <td>1747</td>\n",
       "      <td>5867.0</td>\n",
       "      <td>651.0</td>\n",
       "      <td>1705.0</td>\n",
       "      <td>305.0</td>\n",
       "      <td>41.0</td>\n",
       "      <td>102.0</td>\n",
       "      <td>...</td>\n",
       "      <td>32.0</td>\n",
       "      <td>41.0</td>\n",
       "      <td>368.0</td>\n",
       "      <td>541.0</td>\n",
       "      <td>82.0</td>\n",
       "      <td>31.0</td>\n",
       "      <td>35.0</td>\n",
       "      <td>61.0</td>\n",
       "      <td>209.0</td>\n",
       "      <td>lf</td>\n",
       "    </tr>\n",
       "    <tr>\n",
       "      <th>2</th>\n",
       "      <td>meusebo01</td>\n",
       "      <td>1937</td>\n",
       "      <td>N</td>\n",
       "      <td>1407</td>\n",
       "      <td>5475.0</td>\n",
       "      <td>826.0</td>\n",
       "      <td>1693.0</td>\n",
       "      <td>368.0</td>\n",
       "      <td>95.0</td>\n",
       "      <td>156.0</td>\n",
       "      <td>...</td>\n",
       "      <td>142.0</td>\n",
       "      <td>102.0</td>\n",
       "      <td>375.0</td>\n",
       "      <td>619.0</td>\n",
       "      <td>NaN</td>\n",
       "      <td>21.0</td>\n",
       "      <td>157.0</td>\n",
       "      <td>NaN</td>\n",
       "      <td>NaN</td>\n",
       "      <td>lf</td>\n",
       "    </tr>\n",
       "    <tr>\n",
       "      <th>3</th>\n",
       "      <td>boyerke01</td>\n",
       "      <td>1975</td>\n",
       "      <td>N</td>\n",
       "      <td>2034</td>\n",
       "      <td>7455.0</td>\n",
       "      <td>1104.0</td>\n",
       "      <td>2143.0</td>\n",
       "      <td>318.0</td>\n",
       "      <td>68.0</td>\n",
       "      <td>282.0</td>\n",
       "      <td>...</td>\n",
       "      <td>105.0</td>\n",
       "      <td>77.0</td>\n",
       "      <td>713.0</td>\n",
       "      <td>1017.0</td>\n",
       "      <td>97.0</td>\n",
       "      <td>20.0</td>\n",
       "      <td>17.0</td>\n",
       "      <td>63.0</td>\n",
       "      <td>185.0</td>\n",
       "      <td>3b</td>\n",
       "    </tr>\n",
       "    <tr>\n",
       "      <th>4</th>\n",
       "      <td>bucknbi01</td>\n",
       "      <td>1996</td>\n",
       "      <td>N</td>\n",
       "      <td>2517</td>\n",
       "      <td>9397.0</td>\n",
       "      <td>1077.0</td>\n",
       "      <td>2715.0</td>\n",
       "      <td>498.0</td>\n",
       "      <td>49.0</td>\n",
       "      <td>174.0</td>\n",
       "      <td>...</td>\n",
       "      <td>183.0</td>\n",
       "      <td>73.0</td>\n",
       "      <td>450.0</td>\n",
       "      <td>453.0</td>\n",
       "      <td>111.0</td>\n",
       "      <td>42.0</td>\n",
       "      <td>47.0</td>\n",
       "      <td>97.0</td>\n",
       "      <td>247.0</td>\n",
       "      <td>1b</td>\n",
       "    </tr>\n",
       "  </tbody>\n",
       "</table>\n",
       "<p>5 rows × 21 columns</p>\n",
       "</div>"
      ],
      "text/plain": [
       "    playerid  yearid inducted     g      ab       r       h    h2b   h3b  \\\n",
       "0  ramospe01    1978        N   696   703.0    76.0   109.0    9.0   3.0   \n",
       "1  pinielo01    1990        N  1747  5867.0   651.0  1705.0  305.0  41.0   \n",
       "2  meusebo01    1937        N  1407  5475.0   826.0  1693.0  368.0  95.0   \n",
       "3  boyerke01    1975        N  2034  7455.0  1104.0  2143.0  318.0  68.0   \n",
       "4  bucknbi01    1996        N  2517  9397.0  1077.0  2715.0  498.0  49.0   \n",
       "\n",
       "      hr ...      sb     cs     bb      so    ibb   hbp     sh    sf   gidp  \\\n",
       "0   15.0 ...     2.0    2.0   22.0   316.0    0.0   2.0   41.0   2.0    5.0   \n",
       "1  102.0 ...    32.0   41.0  368.0   541.0   82.0  31.0   35.0  61.0  209.0   \n",
       "2  156.0 ...   142.0  102.0  375.0   619.0    NaN  21.0  157.0   NaN    NaN   \n",
       "3  282.0 ...   105.0   77.0  713.0  1017.0   97.0  20.0   17.0  63.0  185.0   \n",
       "4  174.0 ...   183.0   73.0  450.0   453.0  111.0  42.0   47.0  97.0  247.0   \n",
       "\n",
       "   pos  \n",
       "0    p  \n",
       "1   lf  \n",
       "2   lf  \n",
       "3   3b  \n",
       "4   1b  \n",
       "\n",
       "[5 rows x 21 columns]"
      ]
     },
     "execution_count": 9,
     "metadata": {},
     "output_type": "execute_result"
    }
   ],
   "source": [
    "fb_batting.head()"
   ]
  },
  {
   "cell_type": "markdown",
   "metadata": {},
   "source": [
    "Merging two more tables together to obtain their career Wins Above Replacement according to Fangraphs (WAR)"
   ]
  },
  {
   "cell_type": "code",
   "execution_count": 10,
   "metadata": {
    "collapsed": true
   },
   "outputs": [],
   "source": [
    "hitters_key=pd.read_csv('master_map.csv',usecols=['key_bbref','key_fangraphs'])"
   ]
  },
  {
   "cell_type": "code",
   "execution_count": 11,
   "metadata": {
    "collapsed": false
   },
   "outputs": [],
   "source": [
    "key_vals_merged = pd.merge(fb_batting,hitters_key,how='inner', left_on='playerid',right_on='key_bbref')"
   ]
  },
  {
   "cell_type": "code",
   "execution_count": 12,
   "metadata": {
    "collapsed": true
   },
   "outputs": [],
   "source": [
    "war_key=pd.read_csv('hitwar.csv',usecols=['WAR','playerid'])"
   ]
  },
  {
   "cell_type": "code",
   "execution_count": 13,
   "metadata": {
    "collapsed": false
   },
   "outputs": [],
   "source": [
    "hof_batting_2=pd.merge(key_vals_merged,war_key,how='left',left_on='key_fangraphs',right_on='playerid')"
   ]
  },
  {
   "cell_type": "markdown",
   "metadata": {},
   "source": [
    "Now, there were three major epochs when the voting rules changes, so I will bin the year of vote into one of 3"
   ]
  },
  {
   "cell_type": "code",
   "execution_count": 14,
   "metadata": {
    "collapsed": true
   },
   "outputs": [],
   "source": [
    "def era_bin(year):\n",
    "    if year==1936:\n",
    "        return 1\n",
    "    elif year>1936 and year <1967:\n",
    "        return 2\n",
    "    else:\n",
    "        return 3"
   ]
  },
  {
   "cell_type": "code",
   "execution_count": 15,
   "metadata": {
    "collapsed": false
   },
   "outputs": [],
   "source": [
    "#converting to bin\n",
    "hof_batting_2['first_yr']=hof_batting_2.yearid.apply(era_bin)"
   ]
  },
  {
   "cell_type": "code",
   "execution_count": 16,
   "metadata": {
    "collapsed": false
   },
   "outputs": [],
   "source": [
    "#cutting out mistake rows\n",
    "hof_batting_2=hof_batting_2[hof_batting_2.g>0]"
   ]
  },
  {
   "cell_type": "markdown",
   "metadata": {},
   "source": [
    "Dropping Pitchers"
   ]
  },
  {
   "cell_type": "code",
   "execution_count": 17,
   "metadata": {
    "collapsed": false
   },
   "outputs": [],
   "source": [
    "#cutting out pitchers\n",
    "hof_batting_2 = hof_batting_2[hof_batting_2.pos!='p']"
   ]
  },
  {
   "cell_type": "code",
   "execution_count": 18,
   "metadata": {
    "collapsed": false
   },
   "outputs": [],
   "source": [
    "#cutting down to relevant rows\n",
    "hof_batting_2=hof_batting_2[['playerid_x','key_fangraphs','first_yr','pos',\n",
    "               'WAR','g','ab','r','h','h2b','h3b','hr','rbi','bb','so','inducted']]"
   ]
  },
  {
   "cell_type": "markdown",
   "metadata": {},
   "source": [
    "Since several very notable star players were tainted by different baseball-related scandals,\n",
    "I will add a feature to manually mark that for those players"
   ]
  },
  {
   "cell_type": "code",
   "execution_count": 19,
   "metadata": {
    "collapsed": true
   },
   "outputs": [],
   "source": [
    "#Bonds,Rose,Palmeiro,McGwire,Sheffield,Sosa\n",
    "steroids=[1109.0,1011217.0,1266.0,1008559.0,114.0,302.0]"
   ]
  },
  {
   "cell_type": "code",
   "execution_count": 20,
   "metadata": {
    "collapsed": false
   },
   "outputs": [],
   "source": [
    "hof_batting_2['illegal']=hof_batting_2['key_fangraphs']"
   ]
  },
  {
   "cell_type": "code",
   "execution_count": 21,
   "metadata": {
    "collapsed": false
   },
   "outputs": [],
   "source": [
    "hof_batting_2['illegal']=hof_batting_2['illegal'].apply(lambda x: 1 if x in steroids else 0 )"
   ]
  },
  {
   "cell_type": "markdown",
   "metadata": {},
   "source": [
    "Making dummy variables of the categorical features (position played and era of voting)"
   ]
  },
  {
   "cell_type": "code",
   "execution_count": 22,
   "metadata": {
    "collapsed": false
   },
   "outputs": [],
   "source": [
    "#make era bins and pos into dummy variables\n",
    "hof_batting_2=pd.concat([hof_batting_2, \n",
    "           pd.get_dummies(hof_batting_2['first_yr']),\n",
    "           pd.get_dummies(hof_batting_2['pos'])], \n",
    "           axis=1)"
   ]
  },
  {
   "cell_type": "code",
   "execution_count": 23,
   "metadata": {
    "collapsed": false
   },
   "outputs": [],
   "source": [
    "#cleaned out those with missing data (they were only like 9 and all fringy)\n",
    "hof_batting_2=hof_batting_2.dropna(axis=0)"
   ]
  },
  {
   "cell_type": "code",
   "execution_count": 24,
   "metadata": {
    "collapsed": false
   },
   "outputs": [],
   "source": [
    "hof_batting_2.inducted=hof_batting_2.inducted.replace('Y',1).replace('N',0)"
   ]
  },
  {
   "cell_type": "markdown",
   "metadata": {},
   "source": [
    "Creating Batting Average and Slugging Percentage Features"
   ]
  },
  {
   "cell_type": "code",
   "execution_count": 25,
   "metadata": {
    "collapsed": false
   },
   "outputs": [],
   "source": [
    "#add batting average\n",
    "hof_batting_2['ba']=hof_batting_2.h/hof_batting_2.ab"
   ]
  },
  {
   "cell_type": "code",
   "execution_count": 26,
   "metadata": {
    "collapsed": false
   },
   "outputs": [],
   "source": [
    "#add slg%\n",
    "hof_batting_2['slg']=([(4*hof_batting_2.hr+3*hof_batting_2.h3b+2*hof_batting_2.h2b+\n",
    " (hof_batting_2.h-hof_batting_2.hr-hof_batting_2.h3b-hof_batting_2.h2b))/hof_batting_2.ab])[0]"
   ]
  },
  {
   "cell_type": "code",
   "execution_count": 27,
   "metadata": {
    "collapsed": false
   },
   "outputs": [
    {
     "data": {
      "text/plain": [
       "Index([   u'playerid_x', u'key_fangraphs',      u'first_yr',           u'pos',\n",
       "                 u'WAR',             u'g',            u'ab',             u'r',\n",
       "                   u'h',           u'h2b',           u'h3b',            u'hr',\n",
       "                 u'rbi',            u'bb',            u'so',      u'inducted',\n",
       "             u'illegal',                1,                2,                3,\n",
       "                  u'1b',            u'2b',            u'3b',             u'c',\n",
       "                  u'cf',            u'dh',            u'lf',            u'rf',\n",
       "                  u'ss',            u'ba',           u'slg'],\n",
       "      dtype='object')"
      ]
     },
     "execution_count": 27,
     "metadata": {},
     "output_type": "execute_result"
    }
   ],
   "source": [
    "hof_batting_2.columns"
   ]
  },
  {
   "cell_type": "markdown",
   "metadata": {},
   "source": [
    "Now, that I have all of the features, let's take a look at the means of each feature grouped by label"
   ]
  },
  {
   "cell_type": "code",
   "execution_count": 28,
   "metadata": {
    "collapsed": false
   },
   "outputs": [
    {
     "name": "stdout",
     "output_type": "stream",
     "text": [
      "Non First Ballot Hall of Famers:\n"
     ]
    },
    {
     "data": {
      "text/plain": [
       "first_yr       2.520231\n",
       "WAR           32.348410\n",
       "g           1659.591040\n",
       "ab          5827.244220\n",
       "r            846.213873\n",
       "h           1639.144509\n",
       "h2b          281.132948\n",
       "h3b           58.539017\n",
       "hr           144.371387\n",
       "rbi          788.632948\n",
       "bb           604.213873\n",
       "so           658.579480\n",
       "inducted       0.000000\n",
       "illegal        0.008671\n",
       "1              0.062139\n",
       "2              0.355491\n",
       "3              0.582370\n",
       "1b             0.131503\n",
       "2b             0.117052\n",
       "3b             0.114162\n",
       "c              0.135838\n",
       "cf             0.122832\n",
       "dh             0.014451\n",
       "lf             0.124277\n",
       "rf             0.127168\n",
       "ss             0.112717\n",
       "ba             0.277695\n",
       "slg            0.416008\n",
       "Name: 0, dtype: float64"
      ]
     },
     "execution_count": 28,
     "metadata": {},
     "output_type": "execute_result"
    }
   ],
   "source": [
    "print 'Non First Ballot Hall of Famers:'\n",
    "hof_batting_2.groupby(hof_batting_2.inducted).mean().iloc[0]"
   ]
  },
  {
   "cell_type": "code",
   "execution_count": 29,
   "metadata": {
    "collapsed": false
   },
   "outputs": [
    {
     "name": "stdout",
     "output_type": "stream",
     "text": [
      "First Ballot Hall of Famers:\n"
     ]
    },
    {
     "data": {
      "text/plain": [
       "first_yr       2.750000\n",
       "WAR           89.213889\n",
       "g           2611.944444\n",
       "ab          9549.583333\n",
       "r           1599.083333\n",
       "h           2846.055556\n",
       "h2b          503.472222\n",
       "h3b           93.083333\n",
       "hr           373.527778\n",
       "rbi         1513.555556\n",
       "bb          1256.000000\n",
       "so          1206.194444\n",
       "illegal        0.000000\n",
       "1              0.083333\n",
       "2              0.083333\n",
       "3              0.833333\n",
       "1b             0.138889\n",
       "2b             0.055556\n",
       "3b             0.111111\n",
       "c              0.055556\n",
       "cf             0.138889\n",
       "dh             0.055556\n",
       "lf             0.138889\n",
       "rf             0.194444\n",
       "ss             0.111111\n",
       "ba             0.298318\n",
       "slg            0.489483\n",
       "Name: 1, dtype: float64"
      ]
     },
     "execution_count": 29,
     "metadata": {},
     "output_type": "execute_result"
    }
   ],
   "source": [
    "print \"First Ballot Hall of Famers:\"\n",
    "hof_batting_2.groupby(hof_batting_2.inducted).mean().iloc[1]"
   ]
  },
  {
   "cell_type": "code",
   "execution_count": 30,
   "metadata": {
    "collapsed": false
   },
   "outputs": [
    {
     "name": "stdout",
     "output_type": "stream",
     "text": [
      "Percent increase in feature from non-inducted to inducted:\n"
     ]
    },
    {
     "data": {
      "text/plain": [
       "first_yr      9.116972\n",
       "WAR         175.790642\n",
       "g            57.384824\n",
       "ab           63.878207\n",
       "r            88.969170\n",
       "h            73.630546\n",
       "h2b          79.086879\n",
       "h3b          59.010755\n",
       "hr          158.727013\n",
       "rbi          91.921420\n",
       "bb          107.873413\n",
       "so           83.150930\n",
       "illegal    -100.000000\n",
       "1            34.108527\n",
       "2           -76.558266\n",
       "3            43.093466\n",
       "1b            5.616606\n",
       "2b          -52.537723\n",
       "3b           -2.672293\n",
       "c           -59.101655\n",
       "cf           13.071895\n",
       "dh          284.444444\n",
       "lf           11.757106\n",
       "rf           52.904040\n",
       "ss           -1.424501\n",
       "ba            7.426382\n",
       "slg          17.662085\n",
       "dtype: float64"
      ]
     },
     "execution_count": 30,
     "metadata": {},
     "output_type": "execute_result"
    }
   ],
   "source": [
    "print \"Percent increase in feature from non-inducted to inducted:\"\n",
    "((hof_batting_2.groupby(hof_batting_2.inducted).mean().iloc[1]-hof_batting_2.groupby(hof_batting_2.inducted).mean().iloc[0])\\\n",
    "/hof_batting_2.groupby(hof_batting_2.inducted).mean().iloc[0])*100"
   ]
  },
  {
   "cell_type": "markdown",
   "metadata": {},
   "source": [
    "# Now to put into models"
   ]
  },
  {
   "cell_type": "code",
   "execution_count": 31,
   "metadata": {
    "collapsed": false
   },
   "outputs": [],
   "source": [
    "X=hof_batting_2[['WAR','g','ab','r','h','h2b','h3b','hr','rbi','bb','so','ba','slg',1,2,3,'1b','2b','3b',\n",
    "                'c','cf','dh','lf','ss','illegal']]"
   ]
  },
  {
   "cell_type": "code",
   "execution_count": 32,
   "metadata": {
    "collapsed": true
   },
   "outputs": [],
   "source": [
    "y=hof_batting_2.inducted"
   ]
  },
  {
   "cell_type": "code",
   "execution_count": 33,
   "metadata": {
    "collapsed": false
   },
   "outputs": [],
   "source": [
    "from sklearn.linear_model import LogisticRegression\n",
    "from sklearn.neighbors import KNeighborsClassifier\n",
    "from sklearn.naive_bayes import GaussianNB\n",
    "from sklearn.svm import SVC\n",
    "from sklearn.ensemble import RandomForestClassifier\n",
    "from sklearn.tree import DecisionTreeClassifier\n",
    "from sklearn.metrics import accuracy_score\n",
    "from sklearn.cross_validation import cross_val_score"
   ]
  },
  {
   "cell_type": "code",
   "execution_count": 34,
   "metadata": {
    "collapsed": false
   },
   "outputs": [],
   "source": [
    "random_state=100\n",
    "knn=KNeighborsClassifier()\n",
    "logreg=LogisticRegression(random_state=random_state)\n",
    "nb=GaussianNB()\n",
    "svm=SVC(random_state=random_state)\n",
    "dec=DecisionTreeClassifier(random_state=random_state)\n",
    "fore=RandomForestClassifier(random_state=random_state)"
   ]
  },
  {
   "cell_type": "code",
   "execution_count": 35,
   "metadata": {
    "collapsed": false
   },
   "outputs": [],
   "source": [
    "mod_name=[]\n",
    "score=[]\n",
    "for model in (knn,logreg,nb,svm,dec,fore):\n",
    "    mod_name.append(str(model))\n",
    "    score.append(cross_val_score(model, X, y, scoring='roc_auc').mean())"
   ]
  },
  {
   "cell_type": "code",
   "execution_count": 36,
   "metadata": {
    "collapsed": false
   },
   "outputs": [
    {
     "data": {
      "text/plain": [
       "[(0.90404615513311171,\n",
       "  \"RandomForestClassifier(bootstrap=True, class_weight=None, criterion='gini',\\n            max_depth=None, max_features='auto', max_leaf_nodes=None,\\n            min_samples_leaf=1, min_samples_split=2,\\n            min_weight_fraction_leaf=0.0, n_estimators=10, n_jobs=1,\\n            oob_score=False, random_state=100, verbose=0, warm_start=False)\"),\n",
       " (0.88967835706966136, 'GaussianNB()'),\n",
       " (0.86371426480122127,\n",
       "  \"KNeighborsClassifier(algorithm='auto', leaf_size=30, metric='minkowski',\\n           metric_params=None, n_jobs=1, n_neighbors=5, p=2,\\n           weights='uniform')\"),\n",
       " (0.86361989459815547,\n",
       "  \"LogisticRegression(C=1.0, class_weight=None, dual=False, fit_intercept=True,\\n          intercept_scaling=1, max_iter=100, multi_class='ovr', n_jobs=1,\\n          penalty='l2', random_state=100, solver='liblinear', tol=0.0001,\\n          verbose=0, warm_start=False)\"),\n",
       " (0.75118995336386651,\n",
       "  \"DecisionTreeClassifier(class_weight=None, criterion='gini', max_depth=None,\\n            max_features=None, max_leaf_nodes=None, min_samples_leaf=1,\\n            min_samples_split=2, min_weight_fraction_leaf=0.0,\\n            presort=False, random_state=100, splitter='best')\"),\n",
       " (0.5,\n",
       "  \"SVC(C=1.0, cache_size=200, class_weight=None, coef0=0.0,\\n  decision_function_shape=None, degree=3, gamma='auto', kernel='rbf',\\n  max_iter=-1, probability=False, random_state=100, shrinking=True,\\n  tol=0.001, verbose=False)\")]"
      ]
     },
     "execution_count": 36,
     "metadata": {},
     "output_type": "execute_result"
    }
   ],
   "source": [
    "sorted(zip(score,mod_name),reverse=True)"
   ]
  },
  {
   "cell_type": "code",
   "execution_count": 37,
   "metadata": {
    "collapsed": false
   },
   "outputs": [],
   "source": [
    "guerrero_vals=[59.3,2147,8155,1328,2590,477,46,449,1496,737,985,.318,.553,0,0,1,0,0,0,0,0,0,0,0,0]"
   ]
  },
  {
   "cell_type": "code",
   "execution_count": 38,
   "metadata": {
    "collapsed": false
   },
   "outputs": [
    {
     "data": {
      "text/plain": [
       "GaussianNB()"
      ]
     },
     "execution_count": 38,
     "metadata": {},
     "output_type": "execute_result"
    }
   ],
   "source": [
    "nb.fit(X,y)"
   ]
  },
  {
   "cell_type": "code",
   "execution_count": 39,
   "metadata": {
    "collapsed": false
   },
   "outputs": [
    {
     "data": {
      "text/plain": [
       "RandomForestClassifier(bootstrap=True, class_weight=None, criterion='gini',\n",
       "            max_depth=None, max_features='auto', max_leaf_nodes=None,\n",
       "            min_samples_leaf=1, min_samples_split=2,\n",
       "            min_weight_fraction_leaf=0.0, n_estimators=10, n_jobs=1,\n",
       "            oob_score=False, random_state=100, verbose=0, warm_start=False)"
      ]
     },
     "execution_count": 39,
     "metadata": {},
     "output_type": "execute_result"
    }
   ],
   "source": [
    "fore.fit(X,y)"
   ]
  },
  {
   "cell_type": "code",
   "execution_count": 40,
   "metadata": {
    "collapsed": false
   },
   "outputs": [
    {
     "data": {
      "text/plain": [
       "[(u'ab', 0.15452754618785058),\n",
       " ('WAR', 0.11653095715504369),\n",
       " (u'h', 0.11017716399721522),\n",
       " (u'rbi', 0.10213467420183775),\n",
       " (u'g', 0.093292527352931032),\n",
       " (u'bb', 0.0741689462374375),\n",
       " (u'r', 0.0669232950982592),\n",
       " (u'hr', 0.058336955617866615),\n",
       " (u'so', 0.051126441256766672),\n",
       " (u'h3b', 0.041603679625623113),\n",
       " ('ba', 0.036369583232541816),\n",
       " (u'h2b', 0.028198621536099727),\n",
       " (3, 0.027468374955009804),\n",
       " ('slg', 0.017746427478186062),\n",
       " (u'1b', 0.0097691972500749784),\n",
       " (u'lf', 0.00433297225231231),\n",
       " (u'c', 0.0036818557733403687),\n",
       " (1, 0.0023942249190140263),\n",
       " (u'ss', 0.0011583871686344405),\n",
       " (u'cf', 5.8168703955082766e-05),\n",
       " (2, 0.0),\n",
       " (u'2b', 0.0),\n",
       " (u'3b', 0.0),\n",
       " (u'dh', 0.0),\n",
       " ('illegal', 0.0)]"
      ]
     },
     "execution_count": 40,
     "metadata": {},
     "output_type": "execute_result"
    }
   ],
   "source": [
    "sorted(zip(X.columns,fore.feature_importances_),key=lambda x: x[1],reverse=True)"
   ]
  },
  {
   "cell_type": "code",
   "execution_count": 41,
   "metadata": {
    "collapsed": false
   },
   "outputs": [
    {
     "name": "stderr",
     "output_type": "stream",
     "text": [
      "/Users/moshelaster/anaconda/lib/python2.7/site-packages/sklearn/utils/validation.py:386: DeprecationWarning: Passing 1d arrays as data is deprecated in 0.17 and willraise ValueError in 0.19. Reshape your data either using X.reshape(-1, 1) if your data has a single feature or X.reshape(1, -1) if it contains a single sample.\n",
      "  DeprecationWarning)\n"
     ]
    },
    {
     "data": {
      "text/plain": [
       "array([[ 0.8,  0.2]])"
      ]
     },
     "execution_count": 41,
     "metadata": {},
     "output_type": "execute_result"
    }
   ],
   "source": [
    "fore.predict_proba(guerrero_vals)"
   ]
  },
  {
   "cell_type": "code",
   "execution_count": 42,
   "metadata": {
    "collapsed": false
   },
   "outputs": [
    {
     "name": "stderr",
     "output_type": "stream",
     "text": [
      "/Users/moshelaster/anaconda/lib/python2.7/site-packages/sklearn/utils/validation.py:386: DeprecationWarning: Passing 1d arrays as data is deprecated in 0.17 and willraise ValueError in 0.19. Reshape your data either using X.reshape(-1, 1) if your data has a single feature or X.reshape(1, -1) if it contains a single sample.\n",
      "  DeprecationWarning)\n"
     ]
    },
    {
     "data": {
      "text/plain": [
       "array([[ 0.00217383,  0.99782617]])"
      ]
     },
     "execution_count": 42,
     "metadata": {},
     "output_type": "execute_result"
    }
   ],
   "source": [
    "nb.predict_proba(guerrero_vals)"
   ]
  }
 ],
 "metadata": {
  "kernelspec": {
   "display_name": "Python 2",
   "language": "python",
   "name": "python2"
  },
  "language_info": {
   "codemirror_mode": {
    "name": "ipython",
    "version": 2
   },
   "file_extension": ".py",
   "mimetype": "text/x-python",
   "name": "python",
   "nbconvert_exporter": "python",
   "pygments_lexer": "ipython2",
   "version": "2.7.12"
  }
 },
 "nbformat": 4,
 "nbformat_minor": 0
}
