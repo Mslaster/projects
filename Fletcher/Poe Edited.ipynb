{
 "cells": [
  {
   "cell_type": "code",
   "execution_count": 42,
   "metadata": {
    "collapsed": false
   },
   "outputs": [],
   "source": [
    "from textblob import TextBlob\n",
    "import re\n",
    "import numpy as np\n",
    "import matplotlib.pyplot as plt\n",
    "%matplotlib inline\n",
    "import pandas as pd\n",
    "from textblob import TextBlob\n",
    "import seaborn"
   ]
  },
  {
   "cell_type": "code",
   "execution_count": 12,
   "metadata": {
    "collapsed": true
   },
   "outputs": [],
   "source": [
    "import nltk\n",
    "from nltk.tokenize import sent_tokenize\n",
    "from nltk.tokenize import word_tokenize\n",
    "from nltk.corpus import stopwords"
   ]
  },
  {
   "cell_type": "code",
   "execution_count": 13,
   "metadata": {
    "collapsed": false
   },
   "outputs": [],
   "source": [
    "# opens each of 5 poe files, reads to text, decodes, splits into each \"story\"\n",
    "poe_lit=[open('poe'+str(vol)+'.txt').read().decode('utf-8').split(\"\\r\\n\\r\\n\\r\\n\\r\\n\\r\\n\") for vol in range(1,6)]"
   ]
  },
  {
   "cell_type": "code",
   "execution_count": 14,
   "metadata": {
    "collapsed": false
   },
   "outputs": [],
   "source": [
    "#cut out non-stories by Poe\n",
    "poe_lit_1=poe_lit[0][7:-1]"
   ]
  },
  {
   "cell_type": "code",
   "execution_count": 15,
   "metadata": {
    "collapsed": false
   },
   "outputs": [],
   "source": [
    "poe_lit_2=poe_lit[1][3:-2]"
   ]
  },
  {
   "cell_type": "code",
   "execution_count": 16,
   "metadata": {
    "collapsed": false
   },
   "outputs": [],
   "source": [
    "#scrubbed out novel\n",
    "poe_lit_3=poe_lit[2][29:-1]"
   ]
  },
  {
   "cell_type": "code",
   "execution_count": 17,
   "metadata": {
    "collapsed": false
   },
   "outputs": [],
   "source": [
    "poe_lit_4=poe_lit[3][3:-1]"
   ]
  },
  {
   "cell_type": "code",
   "execution_count": 18,
   "metadata": {
    "collapsed": false
   },
   "outputs": [],
   "source": [
    "#scrubbed out poetry\n",
    "poe_lit_5=poe_lit[4][2:10]"
   ]
  },
  {
   "cell_type": "code",
   "execution_count": 19,
   "metadata": {
    "collapsed": false
   },
   "outputs": [],
   "source": [
    "#all 66 poe short stories in one list\n",
    "poemo=poe_lit_1+poe_lit_2+poe_lit_3+poe_lit_4+poe_lit_5"
   ]
  },
  {
   "cell_type": "code",
   "execution_count": 20,
   "metadata": {
    "collapsed": false
   },
   "outputs": [],
   "source": [
    "#yeah it's not a list comprehension, but it's triple nested, so it might look messy\n",
    "#formatting so it's a list containing strings of short stories\n",
    "stories=[]\n",
    "for story in poemo:\n",
    "    story_words=''\n",
    "    for word in word_tokenize(story):\n",
    "            if word.lower() not in stopwords.words('english') and word.isalpha():\n",
    "                story_words+=' '+word.lower()+' '\n",
    "    stories.append(story_words)\n",
    "            \n",
    "    "
   ]
  },
  {
   "cell_type": "code",
   "execution_count": 21,
   "metadata": {
    "collapsed": false
   },
   "outputs": [],
   "source": [
    "from sklearn.feature_extraction.text import CountVectorizer\n",
    "vectorizer = CountVectorizer()"
   ]
  },
  {
   "cell_type": "code",
   "execution_count": 22,
   "metadata": {
    "collapsed": false
   },
   "outputs": [],
   "source": [
    "X=vectorizer.fit_transform(stories)"
   ]
  },
  {
   "cell_type": "code",
   "execution_count": 23,
   "metadata": {
    "collapsed": false
   },
   "outputs": [],
   "source": [
    "vocab=vectorizer.get_feature_names()"
   ]
  },
  {
   "cell_type": "code",
   "execution_count": 24,
   "metadata": {
    "collapsed": false
   },
   "outputs": [],
   "source": [
    "import lda"
   ]
  },
  {
   "cell_type": "code",
   "execution_count": 25,
   "metadata": {
    "collapsed": false
   },
   "outputs": [],
   "source": [
    "#looking at polarity for each number of topics until 25\n",
    "model_pol=[]\n",
    "for i in range(1,25):\n",
    "    model = lda.LDA(n_topics=i, n_iter=1500, random_state=1)\n",
    "    model.fit(X)\n",
    "    topic_word = model.topic_word_  # model.components_ also works\n",
    "    topic_pol=[]\n",
    "    for j, topic_dist in enumerate(topic_word):\n",
    "        n_top_words = 25\n",
    "        topic_words = np.array(vocab)[np.argsort(topic_dist)][:-(n_top_words+1):-1]\n",
    "        word_pol=0\n",
    "        for word in topic_words:\n",
    "            word_pol+=TextBlob(word).sentiment.polarity\n",
    "        topic_pol.append(word_pol)\n",
    "    model_pol.append(topic_pol)\n",
    "        "
   ]
  },
  {
   "cell_type": "code",
   "execution_count": 26,
   "metadata": {
    "collapsed": false
   },
   "outputs": [],
   "source": [
    "topics_count=[]\n",
    "std=[]\n",
    "for num,pol in enumerate(model_pol):\n",
    "    topics_count.append(num+1)\n",
    "    std.append(np.std(pol))"
   ]
  },
  {
   "cell_type": "code",
   "execution_count": 43,
   "metadata": {
    "collapsed": false
   },
   "outputs": [
    {
     "data": {
      "text/plain": [
       "<matplotlib.text.Text at 0x119b90790>"
      ]
     },
     "execution_count": 43,
     "metadata": {},
     "output_type": "execute_result"
    },
    {
     "data": {
      "image/png": "[encoded data removed]",
      "text/plain": [
       "<matplotlib.figure.Figure at 0x119b71190>"
      ]
     },
     "metadata": {},
     "output_type": "display_data"
    }
   ],
   "source": [
    "plt.plot(topics_count,std)\n",
    "plt.title('Standard Deviation for Topic Polarity')\n",
    "plt.xlabel(\"Number of Distinct Topics\")\n",
    "plt.ylabel('Standard Deviation')"
   ]
  },
  {
   "cell_type": "code",
   "execution_count": 28,
   "metadata": {
    "collapsed": false
   },
   "outputs": [
    {
     "data": {
      "text/plain": [
       "<lda.lda.LDA instance at 0x1189ca878>"
      ]
     },
     "execution_count": 28,
     "metadata": {},
     "output_type": "execute_result"
    }
   ],
   "source": [
    "model = lda.LDA(n_topics=12, n_iter=1500, random_state=1)\n",
    "model.fit(X)"
   ]
  },
  {
   "cell_type": "code",
   "execution_count": 29,
   "metadata": {
    "collapsed": false
   },
   "outputs": [
    {
     "name": "stdout",
     "output_type": "stream",
     "text": [
      "Topic 1: upon could came eyes many length saw night still even fell thought heart head face lay felt among man became within voice words room hand\n",
      "Topic 2: one could however first two little much time found without whole although made great far would three means large manner upon less nearly course doubt\n",
      "Topic 3: one beauty yet art seen valley light scene young hundred character green ellison whose love sense flowers magnificent form became trees eye less sentiment color\n",
      "Topic 4: de said sir jupiter upon legrand let skull goodfellow wid massa te ugh majesty table bug little ye replied parchment tree shuttleworthy angel dat thin\n",
      "Topic 5: would body upon corpse dupin marie one madame murder evidence yet le water girl said rue suspicion committed river prefect house paper question morning us\n",
      "Topic 6: one say upon good thing well old man see way sure like day made take took every make done much would quite never get know\n",
      "Topic 7: us king said like ship sea water let wind thousand perceive rock wyatt river captain come round boat hundred vast monster city legs summit board\n",
      "Topic 8: balloon earth moon car surface great atmosphere feet voyage elevation sun miles day light diameter five actually april sea distance material horizon rotterdam night gas\n",
      "Topic 9: may would upon matter us thus idea nature even general every say let reason said possible case man thought person merely mere present men certain\n",
      "Topic 10: said little gentleman de nose lady replied monsieur madame great acquaintance name pompey really smith oh lalande yes diddler eyes age big john thus sir\n",
      "Topic 11: long death yet spirit life soul within character condition shadow spoke thus days things feeling never lips sense memory fancy died earth god body evil\n",
      "Topic 12: door arm open box back machine automaton within body table person left interior game right baron man hand company never book maelzel drawer main portion\n"
     ]
    }
   ],
   "source": [
    "topic_word = model.topic_word_  \n",
    "n_top_words = 25\n",
    "for i, topic_dist in enumerate(topic_word):\n",
    "    topic_words = np.array(vocab)[np.argsort(topic_dist)][:-(n_top_words+1):-1]\n",
    "    print('Topic {}: {}'.format(i+1, ' '.join(topic_words)))"
   ]
  },
  {
   "cell_type": "code",
   "execution_count": 30,
   "metadata": {
    "collapsed": false
   },
   "outputs": [],
   "source": [
    "topic_word = model.topic_word_  # model.components_ also works\n",
    "n_top_words = 25\n",
    "topic_dict={}\n",
    "for i, topic_dist in enumerate(topic_word):\n",
    "    topic_words = np.array(vocab)[np.argsort(topic_dist)][:-(n_top_words+1):-1]\n",
    "    topic_dict['Topic '+str(i+1)]=[(word,TextBlob(word).sentiment.polarity) for word in topic_words]\n",
    "    \n",
    "    \n",
    "        \n",
    "    \n",
    "        \n",
    "        "
   ]
  },
  {
   "cell_type": "code",
   "execution_count": 31,
   "metadata": {
    "collapsed": false
   },
   "outputs": [
    {
     "data": {
      "text/plain": [
       "{'Topic 1': [(u'upon', 0.0),\n",
       "  (u'could', 0.0),\n",
       "  (u'came', 0.0),\n",
       "  (u'eyes', 0.0),\n",
       "  (u'many', 0.5),\n",
       "  (u'length', 0.0),\n",
       "  (u'saw', 0.0),\n",
       "  (u'night', 0.0),\n",
       "  (u'still', 0.0),\n",
       "  (u'even', 0.0),\n",
       "  (u'fell', 0.0),\n",
       "  (u'thought', 0.0),\n",
       "  (u'heart', 0.0),\n",
       "  (u'head', 0.0),\n",
       "  (u'face', 0.0),\n",
       "  (u'lay', 0.0),\n",
       "  (u'felt', 0.0),\n",
       "  (u'among', 0.0),\n",
       "  (u'man', 0.0),\n",
       "  (u'became', 0.0),\n",
       "  (u'within', 0.0),\n",
       "  (u'voice', 0.0),\n",
       "  (u'words', 0.0),\n",
       "  (u'room', 0.0),\n",
       "  (u'hand', 0.0)],\n",
       " 'Topic 10': [(u'said', 0.0),\n",
       "  (u'little', -0.1875),\n",
       "  (u'gentleman', 0.0),\n",
       "  (u'de', 0.0),\n",
       "  (u'nose', 0.0),\n",
       "  (u'lady', 0.0),\n",
       "  (u'replied', 0.0),\n",
       "  (u'monsieur', 0.0),\n",
       "  (u'madame', 0.0),\n",
       "  (u'great', 0.8),\n",
       "  (u'acquaintance', 0.0),\n",
       "  (u'name', 0.0),\n",
       "  (u'pompey', 0.0),\n",
       "  (u'really', 0.2),\n",
       "  (u'smith', 0.0),\n",
       "  (u'oh', 0.0),\n",
       "  (u'lalande', 0.0),\n",
       "  (u'yes', 0.0),\n",
       "  (u'diddler', 0.0),\n",
       "  (u'eyes', 0.0),\n",
       "  (u'age', 0.0),\n",
       "  (u'big', 0.0),\n",
       "  (u'john', 0.0),\n",
       "  (u'thus', 0.0),\n",
       "  (u'sir', 0.0)],\n",
       " 'Topic 11': [(u'long', -0.05),\n",
       "  (u'death', 0.0),\n",
       "  (u'yet', 0.0),\n",
       "  (u'spirit', 0.0),\n",
       "  (u'life', 0.0),\n",
       "  (u'soul', 0.0),\n",
       "  (u'within', 0.0),\n",
       "  (u'character', 0.0),\n",
       "  (u'condition', 0.0),\n",
       "  (u'shadow', 0.0),\n",
       "  (u'spoke', 0.0),\n",
       "  (u'thus', 0.0),\n",
       "  (u'days', 0.0),\n",
       "  (u'things', 0.0),\n",
       "  (u'feeling', 0.0),\n",
       "  (u'never', 0.0),\n",
       "  (u'lips', 0.0),\n",
       "  (u'sense', 0.0),\n",
       "  (u'memory', 0.0),\n",
       "  (u'fancy', 0.0),\n",
       "  (u'died', 0.0),\n",
       "  (u'earth', 0.0),\n",
       "  (u'god', 0.0),\n",
       "  (u'body', 0.0),\n",
       "  (u'evil', -1.0)],\n",
       " 'Topic 12': [(u'door', 0.0),\n",
       "  (u'arm', 0.0),\n",
       "  (u'open', 0.0),\n",
       "  (u'box', 0.0),\n",
       "  (u'back', 0.0),\n",
       "  (u'machine', 0.0),\n",
       "  (u'automaton', 0.0),\n",
       "  (u'within', 0.0),\n",
       "  (u'body', 0.0),\n",
       "  (u'table', 0.0),\n",
       "  (u'person', 0.0),\n",
       "  (u'left', 0.0),\n",
       "  (u'interior', 0.0),\n",
       "  (u'game', -0.4),\n",
       "  (u'right', 0.2857142857142857),\n",
       "  (u'baron', 0.0),\n",
       "  (u'man', 0.0),\n",
       "  (u'hand', 0.0),\n",
       "  (u'company', 0.0),\n",
       "  (u'never', 0.0),\n",
       "  (u'book', 0.0),\n",
       "  (u'maelzel', 0.0),\n",
       "  (u'drawer', 0.0),\n",
       "  (u'main', 0.16666666666666666),\n",
       "  (u'portion', 0.0)],\n",
       " 'Topic 2': [(u'one', 0.0),\n",
       "  (u'could', 0.0),\n",
       "  (u'however', 0.0),\n",
       "  (u'first', 0.25),\n",
       "  (u'two', 0.0),\n",
       "  (u'little', -0.1875),\n",
       "  (u'much', 0.2),\n",
       "  (u'time', 0.0),\n",
       "  (u'found', 0.0),\n",
       "  (u'without', 0.0),\n",
       "  (u'whole', 0.2),\n",
       "  (u'although', 0.0),\n",
       "  (u'made', 0.0),\n",
       "  (u'great', 0.8),\n",
       "  (u'far', 0.1),\n",
       "  (u'would', 0.0),\n",
       "  (u'three', 0.0),\n",
       "  (u'means', 0.0),\n",
       "  (u'large', 0.21428571428571427),\n",
       "  (u'manner', 0.0),\n",
       "  (u'upon', 0.0),\n",
       "  (u'less', -0.16666666666666666),\n",
       "  (u'nearly', 0.1),\n",
       "  (u'course', 0.0),\n",
       "  (u'doubt', 0.0)],\n",
       " 'Topic 3': [(u'one', 0.0),\n",
       "  (u'beauty', 0.0),\n",
       "  (u'yet', 0.0),\n",
       "  (u'art', 0.0),\n",
       "  (u'seen', 0.0),\n",
       "  (u'valley', 0.0),\n",
       "  (u'light', 0.4),\n",
       "  (u'scene', 0.0),\n",
       "  (u'young', 0.1),\n",
       "  (u'hundred', 0.0),\n",
       "  (u'character', 0.0),\n",
       "  (u'green', -0.2),\n",
       "  (u'ellison', 0.0),\n",
       "  (u'whose', 0.0),\n",
       "  (u'love', 0.5),\n",
       "  (u'sense', 0.0),\n",
       "  (u'flowers', 0.0),\n",
       "  (u'magnificent', 1.0),\n",
       "  (u'form', 0.0),\n",
       "  (u'became', 0.0),\n",
       "  (u'trees', 0.0),\n",
       "  (u'eye', 0.0),\n",
       "  (u'less', -0.16666666666666666),\n",
       "  (u'sentiment', 0.0),\n",
       "  (u'color', 0.0)],\n",
       " 'Topic 4': [(u'de', 0.0),\n",
       "  (u'said', 0.0),\n",
       "  (u'sir', 0.0),\n",
       "  (u'jupiter', 0.0),\n",
       "  (u'upon', 0.0),\n",
       "  (u'legrand', 0.0),\n",
       "  (u'let', 0.0),\n",
       "  (u'skull', 0.0),\n",
       "  (u'goodfellow', 0.0),\n",
       "  (u'wid', 0.0),\n",
       "  (u'massa', 0.0),\n",
       "  (u'te', 0.0),\n",
       "  (u'ugh', 0.0),\n",
       "  (u'majesty', 0.0),\n",
       "  (u'table', 0.0),\n",
       "  (u'bug', 0.0),\n",
       "  (u'little', -0.1875),\n",
       "  (u'ye', 0.0),\n",
       "  (u'replied', 0.0),\n",
       "  (u'parchment', 0.0),\n",
       "  (u'tree', 0.0),\n",
       "  (u'shuttleworthy', 0.0),\n",
       "  (u'angel', 0.0),\n",
       "  (u'dat', 0.0),\n",
       "  (u'thin', -0.4)],\n",
       " 'Topic 5': [(u'would', 0.0),\n",
       "  (u'body', 0.0),\n",
       "  (u'upon', 0.0),\n",
       "  (u'corpse', 0.0),\n",
       "  (u'dupin', 0.0),\n",
       "  (u'marie', 0.0),\n",
       "  (u'one', 0.0),\n",
       "  (u'madame', 0.0),\n",
       "  (u'murder', 0.0),\n",
       "  (u'evidence', 0.0),\n",
       "  (u'yet', 0.0),\n",
       "  (u'le', 0.0),\n",
       "  (u'water', 0.0),\n",
       "  (u'girl', 0.0),\n",
       "  (u'said', 0.0),\n",
       "  (u'rue', 0.0),\n",
       "  (u'suspicion', 0.0),\n",
       "  (u'committed', 0.0),\n",
       "  (u'river', 0.0),\n",
       "  (u'prefect', 0.0),\n",
       "  (u'house', 0.0),\n",
       "  (u'paper', 0.0),\n",
       "  (u'question', 0.0),\n",
       "  (u'morning', 0.0),\n",
       "  (u'us', 0.0)],\n",
       " 'Topic 6': [(u'one', 0.0),\n",
       "  (u'say', 0.0),\n",
       "  (u'upon', 0.0),\n",
       "  (u'good', 0.7),\n",
       "  (u'thing', 0.0),\n",
       "  (u'well', 0.0),\n",
       "  (u'old', 0.1),\n",
       "  (u'man', 0.0),\n",
       "  (u'see', 0.0),\n",
       "  (u'way', 0.0),\n",
       "  (u'sure', 0.5),\n",
       "  (u'like', 0.0),\n",
       "  (u'day', 0.0),\n",
       "  (u'made', 0.0),\n",
       "  (u'take', 0.0),\n",
       "  (u'took', 0.0),\n",
       "  (u'every', 0.0),\n",
       "  (u'make', 0.0),\n",
       "  (u'done', 0.0),\n",
       "  (u'much', 0.2),\n",
       "  (u'would', 0.0),\n",
       "  (u'quite', 0.0),\n",
       "  (u'never', 0.0),\n",
       "  (u'get', 0.0),\n",
       "  (u'know', 0.0)],\n",
       " 'Topic 7': [(u'us', 0.0),\n",
       "  (u'king', 0.0),\n",
       "  (u'said', 0.0),\n",
       "  (u'like', 0.0),\n",
       "  (u'ship', 0.0),\n",
       "  (u'sea', 0.0),\n",
       "  (u'water', 0.0),\n",
       "  (u'let', 0.0),\n",
       "  (u'wind', 0.0),\n",
       "  (u'thousand', 0.0),\n",
       "  (u'perceive', 0.0),\n",
       "  (u'rock', 0.0),\n",
       "  (u'wyatt', 0.0),\n",
       "  (u'river', 0.0),\n",
       "  (u'captain', 0.0),\n",
       "  (u'come', 0.0),\n",
       "  (u'round', -0.2),\n",
       "  (u'boat', 0.0),\n",
       "  (u'hundred', 0.0),\n",
       "  (u'vast', 0.0),\n",
       "  (u'monster', 0.0),\n",
       "  (u'city', 0.0),\n",
       "  (u'legs', 0.0),\n",
       "  (u'summit', 0.0),\n",
       "  (u'board', 0.0)],\n",
       " 'Topic 8': [(u'balloon', 0.0),\n",
       "  (u'earth', 0.0),\n",
       "  (u'moon', 0.0),\n",
       "  (u'car', 0.0),\n",
       "  (u'surface', 0.0),\n",
       "  (u'great', 0.8),\n",
       "  (u'atmosphere', 0.0),\n",
       "  (u'feet', 0.0),\n",
       "  (u'voyage', 0.0),\n",
       "  (u'elevation', 0.0),\n",
       "  (u'sun', 0.0),\n",
       "  (u'miles', 0.0),\n",
       "  (u'day', 0.0),\n",
       "  (u'light', 0.4),\n",
       "  (u'diameter', 0.0),\n",
       "  (u'five', 0.0),\n",
       "  (u'actually', 0.0),\n",
       "  (u'april', 0.0),\n",
       "  (u'sea', 0.0),\n",
       "  (u'distance', 0.0),\n",
       "  (u'material', 0.0),\n",
       "  (u'horizon', 0.0),\n",
       "  (u'rotterdam', 0.0),\n",
       "  (u'night', 0.0),\n",
       "  (u'gas', 0.0)],\n",
       " 'Topic 9': [(u'may', 0.0),\n",
       "  (u'would', 0.0),\n",
       "  (u'upon', 0.0),\n",
       "  (u'matter', 0.0),\n",
       "  (u'us', 0.0),\n",
       "  (u'thus', 0.0),\n",
       "  (u'idea', 0.0),\n",
       "  (u'nature', 0.0),\n",
       "  (u'even', 0.0),\n",
       "  (u'general', 0.05000000000000002),\n",
       "  (u'every', 0.0),\n",
       "  (u'say', 0.0),\n",
       "  (u'let', 0.0),\n",
       "  (u'reason', 0.0),\n",
       "  (u'said', 0.0),\n",
       "  (u'possible', 0.0),\n",
       "  (u'case', 0.0),\n",
       "  (u'man', 0.0),\n",
       "  (u'thought', 0.0),\n",
       "  (u'person', 0.0),\n",
       "  (u'merely', -0.5),\n",
       "  (u'mere', -0.5),\n",
       "  (u'present', 0.0),\n",
       "  (u'men', 0.0),\n",
       "  (u'certain', 0.21428571428571427)]}"
      ]
     },
     "execution_count": 31,
     "metadata": {},
     "output_type": "execute_result"
    }
   ],
   "source": [
    "topic_dict"
   ]
  },
  {
   "cell_type": "code",
   "execution_count": 32,
   "metadata": {
    "collapsed": true
   },
   "outputs": [],
   "source": [
    "from pymongo import MongoClient\n",
    "client=MongoClient()"
   ]
  },
  {
   "cell_type": "code",
   "execution_count": 33,
   "metadata": {
    "collapsed": true
   },
   "outputs": [],
   "source": [
    "db = client.test_database"
   ]
  },
  {
   "cell_type": "code",
   "execution_count": 34,
   "metadata": {
    "collapsed": true
   },
   "outputs": [],
   "source": [
    "#name poe collection\n",
    "poe = db.poe"
   ]
  },
  {
   "cell_type": "code",
   "execution_count": 35,
   "metadata": {
    "collapsed": true
   },
   "outputs": [],
   "source": [
    "topic_word = model.topic_word_  # model.components_ also works\n",
    "n_top_words = 25\n",
    "for i, topic_dist in enumerate(topic_word):\n",
    "    topic_words = np.array(vocab)[np.argsort(topic_dist)][:-(n_top_words+1):-1]\n",
    "    poe.insert_one({'Topic '+str(i+1):[(word,TextBlob(word).sentiment.polarity) for word in topic_words]})"
   ]
  },
  {
   "cell_type": "code",
   "execution_count": 39,
   "metadata": {
    "collapsed": false
   },
   "outputs": [
    {
     "name": "stdout",
     "output_type": "stream",
     "text": [
      "{u'_id': ObjectId('57b629bf9e65dbc025ea0079'), u'Topic 1': [[u'upon', 0.0], [u'could', 0.0], [u'came', 0.0], [u'eyes', 0.0], [u'many', 0.5], [u'length', 0.0], [u'saw', 0.0], [u'night', 0.0], [u'still', 0.0], [u'even', 0.0], [u'fell', 0.0], [u'thought', 0.0], [u'heart', 0.0], [u'head', 0.0], [u'face', 0.0], [u'lay', 0.0], [u'felt', 0.0], [u'among', 0.0], [u'man', 0.0], [u'became', 0.0], [u'within', 0.0], [u'voice', 0.0], [u'words', 0.0], [u'room', 0.0], [u'hand', 0.0]]}\n",
      "{u'Topic 2': [[u'one', 0.0], [u'could', 0.0], [u'however', 0.0], [u'first', 0.25], [u'two', 0.0], [u'little', -0.1875], [u'much', 0.2], [u'time', 0.0], [u'found', 0.0], [u'without', 0.0], [u'whole', 0.2], [u'although', 0.0], [u'made', 0.0], [u'great', 0.8], [u'far', 0.1], [u'would', 0.0], [u'three', 0.0], [u'means', 0.0], [u'large', 0.21428571428571427], [u'manner', 0.0], [u'upon', 0.0], [u'less', -0.16666666666666666], [u'nearly', 0.1], [u'course', 0.0], [u'doubt', 0.0]], u'_id': ObjectId('57b629bf9e65dbc025ea007a')}\n",
      "{u'Topic 3': [[u'one', 0.0], [u'beauty', 0.0], [u'yet', 0.0], [u'art', 0.0], [u'seen', 0.0], [u'valley', 0.0], [u'light', 0.4], [u'scene', 0.0], [u'young', 0.1], [u'hundred', 0.0], [u'character', 0.0], [u'green', -0.2], [u'ellison', 0.0], [u'whose', 0.0], [u'love', 0.5], [u'sense', 0.0], [u'flowers', 0.0], [u'magnificent', 1.0], [u'form', 0.0], [u'became', 0.0], [u'trees', 0.0], [u'eye', 0.0], [u'less', -0.16666666666666666], [u'sentiment', 0.0], [u'color', 0.0]], u'_id': ObjectId('57b629bf9e65dbc025ea007b')}\n",
      "{u'_id': ObjectId('57b629bf9e65dbc025ea007c'), u'Topic 4': [[u'de', 0.0], [u'said', 0.0], [u'sir', 0.0], [u'jupiter', 0.0], [u'upon', 0.0], [u'legrand', 0.0], [u'let', 0.0], [u'skull', 0.0], [u'goodfellow', 0.0], [u'wid', 0.0], [u'massa', 0.0], [u'te', 0.0], [u'ugh', 0.0], [u'majesty', 0.0], [u'table', 0.0], [u'bug', 0.0], [u'little', -0.1875], [u'ye', 0.0], [u'replied', 0.0], [u'parchment', 0.0], [u'tree', 0.0], [u'shuttleworthy', 0.0], [u'angel', 0.0], [u'dat', 0.0], [u'thin', -0.4]]}\n",
      "{u'_id': ObjectId('57b629bf9e65dbc025ea007d'), u'Topic 5': [[u'would', 0.0], [u'body', 0.0], [u'upon', 0.0], [u'corpse', 0.0], [u'dupin', 0.0], [u'marie', 0.0], [u'one', 0.0], [u'madame', 0.0], [u'murder', 0.0], [u'evidence', 0.0], [u'yet', 0.0], [u'le', 0.0], [u'water', 0.0], [u'girl', 0.0], [u'said', 0.0], [u'rue', 0.0], [u'suspicion', 0.0], [u'committed', 0.0], [u'river', 0.0], [u'prefect', 0.0], [u'house', 0.0], [u'paper', 0.0], [u'question', 0.0], [u'morning', 0.0], [u'us', 0.0]]}\n",
      "{u'_id': ObjectId('57b629bf9e65dbc025ea007e'), u'Topic 6': [[u'one', 0.0], [u'say', 0.0], [u'upon', 0.0], [u'good', 0.7], [u'thing', 0.0], [u'well', 0.0], [u'old', 0.1], [u'man', 0.0], [u'see', 0.0], [u'way', 0.0], [u'sure', 0.5], [u'like', 0.0], [u'day', 0.0], [u'made', 0.0], [u'take', 0.0], [u'took', 0.0], [u'every', 0.0], [u'make', 0.0], [u'done', 0.0], [u'much', 0.2], [u'would', 0.0], [u'quite', 0.0], [u'never', 0.0], [u'get', 0.0], [u'know', 0.0]]}\n",
      "{u'_id': ObjectId('57b629bf9e65dbc025ea007f'), u'Topic 7': [[u'us', 0.0], [u'king', 0.0], [u'said', 0.0], [u'like', 0.0], [u'ship', 0.0], [u'sea', 0.0], [u'water', 0.0], [u'let', 0.0], [u'wind', 0.0], [u'thousand', 0.0], [u'perceive', 0.0], [u'rock', 0.0], [u'wyatt', 0.0], [u'river', 0.0], [u'captain', 0.0], [u'come', 0.0], [u'round', -0.2], [u'boat', 0.0], [u'hundred', 0.0], [u'vast', 0.0], [u'monster', 0.0], [u'city', 0.0], [u'legs', 0.0], [u'summit', 0.0], [u'board', 0.0]]}\n",
      "{u'Topic 8': [[u'balloon', 0.0], [u'earth', 0.0], [u'moon', 0.0], [u'car', 0.0], [u'surface', 0.0], [u'great', 0.8], [u'atmosphere', 0.0], [u'feet', 0.0], [u'voyage', 0.0], [u'elevation', 0.0], [u'sun', 0.0], [u'miles', 0.0], [u'day', 0.0], [u'light', 0.4], [u'diameter', 0.0], [u'five', 0.0], [u'actually', 0.0], [u'april', 0.0], [u'sea', 0.0], [u'distance', 0.0], [u'material', 0.0], [u'horizon', 0.0], [u'rotterdam', 0.0], [u'night', 0.0], [u'gas', 0.0]], u'_id': ObjectId('57b629bf9e65dbc025ea0080')}\n",
      "{u'_id': ObjectId('57b629bf9e65dbc025ea0081'), u'Topic 9': [[u'may', 0.0], [u'would', 0.0], [u'upon', 0.0], [u'matter', 0.0], [u'us', 0.0], [u'thus', 0.0], [u'idea', 0.0], [u'nature', 0.0], [u'even', 0.0], [u'general', 0.05000000000000002], [u'every', 0.0], [u'say', 0.0], [u'let', 0.0], [u'reason', 0.0], [u'said', 0.0], [u'possible', 0.0], [u'case', 0.0], [u'man', 0.0], [u'thought', 0.0], [u'person', 0.0], [u'merely', -0.5], [u'mere', -0.5], [u'present', 0.0], [u'men', 0.0], [u'certain', 0.21428571428571427]]}\n",
      "{u'_id': ObjectId('57b629bf9e65dbc025ea0082'), u'Topic 10': [[u'said', 0.0], [u'little', -0.1875], [u'gentleman', 0.0], [u'de', 0.0], [u'nose', 0.0], [u'lady', 0.0], [u'replied', 0.0], [u'monsieur', 0.0], [u'madame', 0.0], [u'great', 0.8], [u'acquaintance', 0.0], [u'name', 0.0], [u'pompey', 0.0], [u'really', 0.2], [u'smith', 0.0], [u'oh', 0.0], [u'lalande', 0.0], [u'yes', 0.0], [u'diddler', 0.0], [u'eyes', 0.0], [u'age', 0.0], [u'big', 0.0], [u'john', 0.0], [u'thus', 0.0], [u'sir', 0.0]]}\n",
      "{u'_id': ObjectId('57b629bf9e65dbc025ea0083'), u'Topic 11': [[u'long', -0.05], [u'death', 0.0], [u'yet', 0.0], [u'spirit', 0.0], [u'life', 0.0], [u'soul', 0.0], [u'within', 0.0], [u'character', 0.0], [u'condition', 0.0], [u'shadow', 0.0], [u'spoke', 0.0], [u'thus', 0.0], [u'days', 0.0], [u'things', 0.0], [u'feeling', 0.0], [u'never', 0.0], [u'lips', 0.0], [u'sense', 0.0], [u'memory', 0.0], [u'fancy', 0.0], [u'died', 0.0], [u'earth', 0.0], [u'god', 0.0], [u'body', 0.0], [u'evil', -1.0]]}\n",
      "{u'_id': ObjectId('57b629bf9e65dbc025ea0084'), u'Topic 12': [[u'door', 0.0], [u'arm', 0.0], [u'open', 0.0], [u'box', 0.0], [u'back', 0.0], [u'machine', 0.0], [u'automaton', 0.0], [u'within', 0.0], [u'body', 0.0], [u'table', 0.0], [u'person', 0.0], [u'left', 0.0], [u'interior', 0.0], [u'game', -0.4], [u'right', 0.2857142857142857], [u'baron', 0.0], [u'man', 0.0], [u'hand', 0.0], [u'company', 0.0], [u'never', 0.0], [u'book', 0.0], [u'maelzel', 0.0], [u'drawer', 0.0], [u'main', 0.16666666666666666], [u'portion', 0.0]]}\n"
     ]
    }
   ],
   "source": [
    "for doc in poe.find():\n",
    "    print doc"
   ]
  },
  {
   "cell_type": "code",
   "execution_count": 41,
   "metadata": {
    "collapsed": false
   },
   "outputs": [
    {
     "data": {
      "text/plain": [
       "12"
      ]
     },
     "execution_count": 41,
     "metadata": {},
     "output_type": "execute_result"
    }
   ],
   "source": [
    "db.poe.count()"
   ]
  },
  {
   "cell_type": "code",
   "execution_count": null,
   "metadata": {
    "collapsed": true
   },
   "outputs": [],
   "source": []
  }
 ],
 "metadata": {
  "kernelspec": {
   "display_name": "Python 2",
   "language": "python",
   "name": "python2"
  },
  "language_info": {
   "codemirror_mode": {
    "name": "ipython",
    "version": 2
   },
   "file_extension": ".py",
   "mimetype": "text/x-python",
   "name": "python",
   "nbconvert_exporter": "python",
   "pygments_lexer": "ipython2",
   "version": "2.7.12"
  }
 },
 "nbformat": 4,
 "nbformat_minor": 0
}
