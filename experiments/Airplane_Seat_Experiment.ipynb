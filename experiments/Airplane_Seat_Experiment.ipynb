{
 "cells": [
  {
   "cell_type": "code",
   "execution_count": 1,
   "metadata": {
    "collapsed": true
   },
   "outputs": [],
   "source": [
    "import numpy as np\n",
    "import pandas as pd"
   ]
  },
  {
   "cell_type": "markdown",
   "metadata": {},
   "source": [
    "Here's the text to the question from \"The Riddler\":\n",
    "\n",
    "\n",
    "There’s an airplane with 100 seats, and there are 100 ticketed passengers each with an assigned seat. They line up to board in some random order. However, the first person to board is the worst person alive, and just sits in a random seat, without even looking at his boarding pass. Each subsequent passenger sits in his or her own assigned seat if it’s empty, but sits in a random open seat if the assigned seat is occupied. What is the probability that you, the hundredth passenger to board, finds your seat unoccupied?"
   ]
  },
  {
   "cell_type": "code",
   "execution_count": 17,
   "metadata": {
    "collapsed": true
   },
   "outputs": [],
   "source": [
    "def choose_seats(n=100):\n",
    "    \"\"\"Takes in the total number of seats and runs through the \n",
    "    riddle's rules to play out the outcome\"\"\"\n",
    "    \n",
    "    seats = {n:False for n in range(1,n+1)}\n",
    "    \n",
    "    first_choice = np.random.choice(seats.keys())\n",
    "    \n",
    "    seats[first_choice]=1\n",
    "    \n",
    "    for person in range(2,n+1):\n",
    "        \n",
    "        available= filter(lambda x: seats[x]==False,seats)\n",
    "        \n",
    "        if seats[person]==False:\n",
    "            \n",
    "            seats[person]=person\n",
    "            \n",
    "        else:\n",
    "            \n",
    "            seats[np.random.choice(available)]=person\n",
    "            \n",
    "    return seats"
   ]
  },
  {
   "cell_type": "code",
   "execution_count": 18,
   "metadata": {
    "collapsed": false
   },
   "outputs": [],
   "source": [
    "def successes(sims,n):\n",
    "    \"\"\"Simulates the events a given number of time and returns the percent of time that \n",
    "    person N sat in their assigned seat\"\"\"\n",
    "    success=[]\n",
    "    for sim in range(sims):\n",
    "        if choose_seats(n)[n]==n:\n",
    "            success.append(True)\n",
    "        else:\n",
    "            success.append(False)\n",
    "            \n",
    "    return np.mean(success)\n",
    "            "
   ]
  },
  {
   "cell_type": "code",
   "execution_count": 20,
   "metadata": {
    "collapsed": false
   },
   "outputs": [
    {
     "data": {
      "text/plain": [
       "0.49991000000000002"
      ]
     },
     "execution_count": 20,
     "metadata": {},
     "output_type": "execute_result"
    }
   ],
   "source": [
    "successes(100000,100)"
   ]
  },
  {
   "cell_type": "code",
   "execution_count": 23,
   "metadata": {
    "collapsed": false
   },
   "outputs": [
    {
     "data": {
      "text/plain": [
       "0.50158000000000003"
      ]
     },
     "execution_count": 23,
     "metadata": {},
     "output_type": "execute_result"
    }
   ],
   "source": [
    "successes(100000,5)"
   ]
  },
  {
   "cell_type": "code",
   "execution_count": 26,
   "metadata": {
    "collapsed": false
   },
   "outputs": [
    {
     "data": {
      "text/plain": [
       "0.52100000000000002"
      ]
     },
     "execution_count": 26,
     "metadata": {},
     "output_type": "execute_result"
    }
   ],
   "source": [
    "successes(1000,1000)"
   ]
  },
  {
   "cell_type": "markdown",
   "metadata": {},
   "source": [
    "It appears that it always converges to .5. So there's a 50/50 chance that the Nth passenger will find his seat regardless of how many there are."
   ]
  }
 ],
 "metadata": {
  "kernelspec": {
   "display_name": "Python 2",
   "language": "python",
   "name": "python2"
  },
  "language_info": {
   "codemirror_mode": {
    "name": "ipython",
    "version": 2
   },
   "file_extension": ".py",
   "mimetype": "text/x-python",
   "name": "python",
   "nbconvert_exporter": "python",
   "pygments_lexer": "ipython2",
   "version": "2.7.12"
  }
 },
 "nbformat": 4,
 "nbformat_minor": 2
}
