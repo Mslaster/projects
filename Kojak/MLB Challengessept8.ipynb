{
 "cells": [
  {
   "cell_type": "markdown",
   "metadata": {
    "collapsed": false
   },
   "source": [
    "# Predicting Optimal Challenge Usage"
   ]
  },
  {
   "cell_type": "markdown",
   "metadata": {},
   "source": [
    "# Part I Modeling Expected Payoff of Successful Challenge"
   ]
  },
  {
   "cell_type": "code",
   "execution_count": 85,
   "metadata": {
    "collapsed": true
   },
   "outputs": [],
   "source": [
    "import pandas as pd"
   ]
  },
  {
   "cell_type": "code",
   "execution_count": 86,
   "metadata": {
    "collapsed": true
   },
   "outputs": [],
   "source": [
    "win_exp_table=pd.read_csv('WinExp/BigTable-Table 1.csv')"
   ]
  },
  {
   "cell_type": "code",
   "execution_count": 87,
   "metadata": {
    "collapsed": false
   },
   "outputs": [
    {
     "data": {
      "text/html": [
       "<div>\n",
       "<table border=\"1\" class=\"dataframe\">\n",
       "  <thead>\n",
       "    <tr style=\"text-align: right;\">\n",
       "      <th></th>\n",
       "      <th>Unnamed: 0</th>\n",
       "      <th>Inning</th>\n",
       "      <th>HalfInning</th>\n",
       "      <th>BaseSit</th>\n",
       "      <th>Outs</th>\n",
       "      <th>BaseOuts</th>\n",
       "      <th>InnBaseOut</th>\n",
       "      <th>-15</th>\n",
       "      <th>-14</th>\n",
       "      <th>-13</th>\n",
       "      <th>...</th>\n",
       "      <th>11</th>\n",
       "      <th>12</th>\n",
       "      <th>13</th>\n",
       "      <th>14</th>\n",
       "      <th>15</th>\n",
       "      <th>Unnamed: 38</th>\n",
       "      <th>Unnamed: 39</th>\n",
       "      <th>Unnamed: 40</th>\n",
       "      <th>Unnamed: 41</th>\n",
       "      <th>Unnamed: 42</th>\n",
       "    </tr>\n",
       "  </thead>\n",
       "  <tbody>\n",
       "    <tr>\n",
       "      <th>0</th>\n",
       "      <td>Top</td>\n",
       "      <td>1.0</td>\n",
       "      <td>11.0</td>\n",
       "      <td>1.0</td>\n",
       "      <td>0.0</td>\n",
       "      <td>10.0</td>\n",
       "      <td>1110.0</td>\n",
       "      <td>0.1%</td>\n",
       "      <td>0.2%</td>\n",
       "      <td>0.3%</td>\n",
       "      <td>...</td>\n",
       "      <td>0.0%</td>\n",
       "      <td>0.0%</td>\n",
       "      <td>0.0%</td>\n",
       "      <td>0.0%</td>\n",
       "      <td>0.0%</td>\n",
       "      <td>NaN</td>\n",
       "      <td>NaN</td>\n",
       "      <td>NaN</td>\n",
       "      <td>NaN</td>\n",
       "      <td>NaN</td>\n",
       "    </tr>\n",
       "    <tr>\n",
       "      <th>1</th>\n",
       "      <td>Top</td>\n",
       "      <td>1.0</td>\n",
       "      <td>11.0</td>\n",
       "      <td>2.0</td>\n",
       "      <td>0.0</td>\n",
       "      <td>20.0</td>\n",
       "      <td>1120.0</td>\n",
       "      <td>0.1%</td>\n",
       "      <td>0.2%</td>\n",
       "      <td>0.3%</td>\n",
       "      <td>...</td>\n",
       "      <td>NaN</td>\n",
       "      <td>NaN</td>\n",
       "      <td>NaN</td>\n",
       "      <td>NaN</td>\n",
       "      <td>NaN</td>\n",
       "      <td>NaN</td>\n",
       "      <td>NaN</td>\n",
       "      <td>NaN</td>\n",
       "      <td>NaN</td>\n",
       "      <td>NaN</td>\n",
       "    </tr>\n",
       "    <tr>\n",
       "      <th>2</th>\n",
       "      <td>Top</td>\n",
       "      <td>1.0</td>\n",
       "      <td>11.0</td>\n",
       "      <td>3.0</td>\n",
       "      <td>0.0</td>\n",
       "      <td>30.0</td>\n",
       "      <td>1130.0</td>\n",
       "      <td>0.1%</td>\n",
       "      <td>0.1%</td>\n",
       "      <td>0.2%</td>\n",
       "      <td>...</td>\n",
       "      <td>NaN</td>\n",
       "      <td>NaN</td>\n",
       "      <td>NaN</td>\n",
       "      <td>NaN</td>\n",
       "      <td>NaN</td>\n",
       "      <td>NaN</td>\n",
       "      <td>NaN</td>\n",
       "      <td>NaN</td>\n",
       "      <td>NaN</td>\n",
       "      <td>NaN</td>\n",
       "    </tr>\n",
       "    <tr>\n",
       "      <th>3</th>\n",
       "      <td>Top</td>\n",
       "      <td>1.0</td>\n",
       "      <td>11.0</td>\n",
       "      <td>4.0</td>\n",
       "      <td>0.0</td>\n",
       "      <td>40.0</td>\n",
       "      <td>1140.0</td>\n",
       "      <td>0.1%</td>\n",
       "      <td>0.1%</td>\n",
       "      <td>0.2%</td>\n",
       "      <td>...</td>\n",
       "      <td>NaN</td>\n",
       "      <td>NaN</td>\n",
       "      <td>NaN</td>\n",
       "      <td>NaN</td>\n",
       "      <td>NaN</td>\n",
       "      <td>NaN</td>\n",
       "      <td>NaN</td>\n",
       "      <td>NaN</td>\n",
       "      <td>NaN</td>\n",
       "      <td>NaN</td>\n",
       "    </tr>\n",
       "    <tr>\n",
       "      <th>4</th>\n",
       "      <td>Top</td>\n",
       "      <td>1.0</td>\n",
       "      <td>11.0</td>\n",
       "      <td>5.0</td>\n",
       "      <td>0.0</td>\n",
       "      <td>50.0</td>\n",
       "      <td>1150.0</td>\n",
       "      <td>0.1%</td>\n",
       "      <td>0.1%</td>\n",
       "      <td>0.2%</td>\n",
       "      <td>...</td>\n",
       "      <td>NaN</td>\n",
       "      <td>NaN</td>\n",
       "      <td>NaN</td>\n",
       "      <td>NaN</td>\n",
       "      <td>NaN</td>\n",
       "      <td>NaN</td>\n",
       "      <td>NaN</td>\n",
       "      <td>NaN</td>\n",
       "      <td>NaN</td>\n",
       "      <td>NaN</td>\n",
       "    </tr>\n",
       "  </tbody>\n",
       "</table>\n",
       "<p>5 rows × 43 columns</p>\n",
       "</div>"
      ],
      "text/plain": [
       "  Unnamed: 0  Inning  HalfInning  BaseSit  Outs  BaseOuts  InnBaseOut   -15  \\\n",
       "0        Top     1.0        11.0      1.0   0.0      10.0      1110.0  0.1%   \n",
       "1        Top     1.0        11.0      2.0   0.0      20.0      1120.0  0.1%   \n",
       "2        Top     1.0        11.0      3.0   0.0      30.0      1130.0  0.1%   \n",
       "3        Top     1.0        11.0      4.0   0.0      40.0      1140.0  0.1%   \n",
       "4        Top     1.0        11.0      5.0   0.0      50.0      1150.0  0.1%   \n",
       "\n",
       "    -14   -13     ...        11    12    13    14    15 Unnamed: 38  \\\n",
       "0  0.2%  0.3%     ...      0.0%  0.0%  0.0%  0.0%  0.0%         NaN   \n",
       "1  0.2%  0.3%     ...       NaN   NaN   NaN   NaN   NaN         NaN   \n",
       "2  0.1%  0.2%     ...       NaN   NaN   NaN   NaN   NaN         NaN   \n",
       "3  0.1%  0.2%     ...       NaN   NaN   NaN   NaN   NaN         NaN   \n",
       "4  0.1%  0.2%     ...       NaN   NaN   NaN   NaN   NaN         NaN   \n",
       "\n",
       "  Unnamed: 39 Unnamed: 40 Unnamed: 41 Unnamed: 42  \n",
       "0         NaN         NaN         NaN         NaN  \n",
       "1         NaN         NaN         NaN         NaN  \n",
       "2         NaN         NaN         NaN         NaN  \n",
       "3         NaN         NaN         NaN         NaN  \n",
       "4         NaN         NaN         NaN         NaN  \n",
       "\n",
       "[5 rows x 43 columns]"
      ]
     },
     "execution_count": 87,
     "metadata": {},
     "output_type": "execute_result"
    }
   ],
   "source": [
    "win_exp_table.head()"
   ]
  },
  {
   "cell_type": "code",
   "execution_count": 88,
   "metadata": {
    "collapsed": true
   },
   "outputs": [],
   "source": [
    "#function takes inning, half, runner on each base, out, run difference and outputs win prob\n",
    "#call it twice to see result of challenge\n",
    "def win_exp(inning,half,first,second,third,outs,run_dif):\n",
    "    sit=int(str(first)+str(second)+str(third),2)+1\n",
    "    sit_code=str(inning)+str(half)+str(sit)+str(outs)\n",
    "    return float(win_exp_table[win_exp_table.InnBaseOut==int(sit_code)][str(run_dif)].tolist()[0].strip('%'))/100"
   ]
  },
  {
   "cell_type": "markdown",
   "metadata": {},
   "source": [
    "# Part II Modeling probability of success of challenge"
   ]
  },
  {
   "cell_type": "code",
   "execution_count": 89,
   "metadata": {
    "collapsed": true
   },
   "outputs": [],
   "source": [
    "from bs4 import BeautifulSoup\n",
    "import requests\n",
    "import numpy as np\n",
    "import matplotlib.pyplot as plt\n",
    "%matplotlib inline"
   ]
  },
  {
   "cell_type": "code",
   "execution_count": 90,
   "metadata": {
    "collapsed": false
   },
   "outputs": [],
   "source": [
    "#scrape all replays from 2014 season from mlb.com\n",
    "mlb14=requests.get('https://baseballsavant.mlb.com/replay?challenge_type=&year=2014&challenger=teamchallenging&team=')"
   ]
  },
  {
   "cell_type": "code",
   "execution_count": 6,
   "metadata": {
    "collapsed": true
   },
   "outputs": [],
   "source": [
    "#same for 15\n",
    "mlb15=requests.get('https://baseballsavant.mlb.com/replay?challenge_type=&year=2015&challenger=teamchallenging&team=')"
   ]
  },
  {
   "cell_type": "code",
   "execution_count": 91,
   "metadata": {
    "collapsed": true
   },
   "outputs": [],
   "source": [
    "#same for 16\n",
    "mlb16=requests.get('https://baseballsavant.mlb.com/replay?challenge_type=&year=2016&challenger=teamchallenging&team=')"
   ]
  },
  {
   "cell_type": "code",
   "execution_count": 92,
   "metadata": {
    "collapsed": false
   },
   "outputs": [],
   "source": [
    "#format\n",
    "data=[BeautifulSoup(season.text) for season in [mlb14,mlb15,mlb16]]"
   ]
  },
  {
   "cell_type": "code",
   "execution_count": 93,
   "metadata": {
    "collapsed": true
   },
   "outputs": [],
   "source": [
    "#initialize lists to put data into\n",
    "num=[]\n",
    "date=[]\n",
    "teams=[]\n",
    "challenger=[]\n",
    "play_type=[]\n",
    "overturned=[]\n",
    "pitcher=[]\n",
    "batter=[]\n",
    "inning=[]\n",
    "description=[]"
   ]
  },
  {
   "cell_type": "code",
   "execution_count": 94,
   "metadata": {
    "collapsed": false
   },
   "outputs": [],
   "source": [
    "#iterate through data to place on lists\n",
    "for season in data:\n",
    "    for event in season.table.findAll('tr')[1::2]:\n",
    "        num.append(event.findAll('td')[0].text)\n",
    "        date.append(event.findAll('td')[1].text)\n",
    "        teams.append(event.findAll('td')[2].text)\n",
    "        challenger.append(event.findAll('td')[3].text)\n",
    "        play_type.append(event.findAll('td')[4].text)\n",
    "        overturned.append(event.findAll('td')[5].text)\n",
    "        pitcher.append(event.findAll('td')[6].text)\n",
    "        batter.append(event.findAll('td')[7].text)\n",
    "        inning.append(event.findAll('td')[8].text)\n",
    "\n",
    "    for event in season.table.findAll('tr')[2::2]:\n",
    "        description.append(event.text)       \n",
    "        \n",
    "        \n",
    "    "
   ]
  },
  {
   "cell_type": "code",
   "execution_count": 95,
   "metadata": {
    "collapsed": true
   },
   "outputs": [],
   "source": [
    "#create column names\n",
    "titles=['num',\n",
    "'date',\n",
    "'teams',\n",
    "'challenger',\n",
    "'play_type',\n",
    "'overturned',\n",
    "'pitcher',\n",
    "'batter',\n",
    "'inning',\n",
    "'description']"
   ]
  },
  {
   "cell_type": "code",
   "execution_count": 96,
   "metadata": {
    "collapsed": false
   },
   "outputs": [],
   "source": [
    "#reformat and put into df\n",
    "challenges=pd.DataFrame(np.matrix([num,\n",
    "date,\n",
    "teams,\n",
    "challenger,\n",
    "play_type,\n",
    "overturned,\n",
    "pitcher,\n",
    "batter,\n",
    "inning,description]).T,columns=titles)"
   ]
  },
  {
   "cell_type": "code",
   "execution_count": 97,
   "metadata": {
    "collapsed": false
   },
   "outputs": [],
   "source": [
    "#make inning into int\n",
    "challenges['inning']=pd.to_numeric(challenges['inning'])"
   ]
  },
  {
   "cell_type": "code",
   "execution_count": 98,
   "metadata": {
    "collapsed": false
   },
   "outputs": [],
   "source": [
    "#read in text from retrosheet, copied and pasted from http://retrosheet.org/Replay2016.htm and saved locally\n",
    "ump_stats_head=open('mlbreplay.txt').read().split('\\n')[0] #the header\n",
    "ump_stats=open('mlbreplay.txt').read().split('\\n')[1:] #the rest of the data"
   ]
  },
  {
   "cell_type": "code",
   "execution_count": 99,
   "metadata": {
    "collapsed": false
   },
   "outputs": [],
   "source": [
    "#wasn't formatted nicely to read in, so figured out spacing \n",
    "#inds are simply the indexes that precede a new column\n",
    "inds=[10,14,18,21,45,65,87,99] "
   ]
  },
  {
   "cell_type": "code",
   "execution_count": 100,
   "metadata": {
    "collapsed": false
   },
   "outputs": [],
   "source": [
    "#copied over header, but inserted commas bf new column\n",
    "ump_stats_head_fixed=''\n",
    "for num,char in enumerate(ump_stats_head):\n",
    "    if num in inds:\n",
    "        ump_stats_head_fixed+=','\n",
    "    else:\n",
    "        ump_stats_head_fixed+=char"
   ]
  },
  {
   "cell_type": "code",
   "execution_count": 101,
   "metadata": {
    "collapsed": false
   },
   "outputs": [],
   "source": [
    "#split and stripped each column title\n",
    "ump_stats_head_fixed=[word.rstrip() for word in ump_stats_head_fixed.split(',')]"
   ]
  },
  {
   "cell_type": "code",
   "execution_count": 102,
   "metadata": {
    "collapsed": false
   },
   "outputs": [],
   "source": [
    "#added new column to classify if umpire challenging or manager\n",
    "ump_stats_head_fixed=ump_stats_head_fixed[:4]+['Init_type']+ump_stats_head_fixed[4:]"
   ]
  },
  {
   "cell_type": "code",
   "execution_count": 103,
   "metadata": {
    "collapsed": false
   },
   "outputs": [],
   "source": [
    "#same thing as before except transformed the data into a list of lists of vals\n",
    "ump_stats_fixed=[]\n",
    "for line in ump_stats:\n",
    "    info=''\n",
    "    for num,char in enumerate(line):\n",
    "        if num in inds or num==25:\n",
    "            info+=','\n",
    "        else:\n",
    "            info+=char\n",
    "    ump_stats_fixed.append(map(str.rstrip,info.split(',')))\n"
   ]
  },
  {
   "cell_type": "code",
   "execution_count": 104,
   "metadata": {
    "collapsed": false
   },
   "outputs": [],
   "source": [
    "#read into df\n",
    "ump_table=pd.DataFrame(ump_stats_fixed,columns=ump_stats_head_fixed)"
   ]
  },
  {
   "cell_type": "code",
   "execution_count": 105,
   "metadata": {
    "collapsed": false
   },
   "outputs": [
    {
     "data": {
      "text/html": [
       "<div>\n",
       "<table border=\"1\" class=\"dataframe\">\n",
       "  <thead>\n",
       "    <tr style=\"text-align: right;\">\n",
       "      <th></th>\n",
       "      <th>Date</th>\n",
       "      <th>Tm</th>\n",
       "      <th>Opp</th>\n",
       "      <th>In</th>\n",
       "      <th>Init_type</th>\n",
       "      <th>Initiator</th>\n",
       "      <th>Umpire</th>\n",
       "      <th>Type</th>\n",
       "      <th>Ruling</th>\n",
       "      <th>Time</th>\n",
       "    </tr>\n",
       "  </thead>\n",
       "  <tbody>\n",
       "    <tr>\n",
       "      <th>0</th>\n",
       "      <td>03/31/2014</td>\n",
       "      <td>ATL</td>\n",
       "      <td>MIL</td>\n",
       "      <td>6</td>\n",
       "      <td>Mgr</td>\n",
       "      <td>Fredi Gonzalez</td>\n",
       "      <td>Greg Gibson</td>\n",
       "      <td>Force play</td>\n",
       "      <td>Overturned</td>\n",
       "      <td>1:05</td>\n",
       "    </tr>\n",
       "    <tr>\n",
       "      <th>1</th>\n",
       "      <td>03/31/2014</td>\n",
       "      <td>WAS</td>\n",
       "      <td>NYN</td>\n",
       "      <td>10</td>\n",
       "      <td>Mgr</td>\n",
       "      <td>Matt Williams</td>\n",
       "      <td>Clint Fagan</td>\n",
       "      <td>Force play</td>\n",
       "      <td>Confirmed</td>\n",
       "      <td>1:44</td>\n",
       "    </tr>\n",
       "    <tr>\n",
       "      <th>2</th>\n",
       "      <td>03/31/2014</td>\n",
       "      <td>CLE</td>\n",
       "      <td>OAK</td>\n",
       "      <td>6</td>\n",
       "      <td>Ump</td>\n",
       "      <td>Mike Winters</td>\n",
       "      <td>Mike Winters</td>\n",
       "      <td>HP collision</td>\n",
       "      <td>Confirmed</td>\n",
       "      <td>1:06</td>\n",
       "    </tr>\n",
       "    <tr>\n",
       "      <th>3</th>\n",
       "      <td>03/31/2014</td>\n",
       "      <td>CHN</td>\n",
       "      <td>PIT</td>\n",
       "      <td>5</td>\n",
       "      <td>Mgr</td>\n",
       "      <td>Rich Renteria</td>\n",
       "      <td>Bob Davidson</td>\n",
       "      <td>Force play</td>\n",
       "      <td>Confirmed</td>\n",
       "      <td>1:39</td>\n",
       "    </tr>\n",
       "    <tr>\n",
       "      <th>4</th>\n",
       "      <td>03/31/2014</td>\n",
       "      <td>PIT</td>\n",
       "      <td>CHN</td>\n",
       "      <td>10</td>\n",
       "      <td>Mgr</td>\n",
       "      <td>Clint Hurdle</td>\n",
       "      <td>Bob Davidson</td>\n",
       "      <td>Tag play</td>\n",
       "      <td>Overturned</td>\n",
       "      <td>1:46</td>\n",
       "    </tr>\n",
       "  </tbody>\n",
       "</table>\n",
       "</div>"
      ],
      "text/plain": [
       "         Date   Tm  Opp  In Init_type       Initiator        Umpire  \\\n",
       "0  03/31/2014  ATL  MIL   6       Mgr  Fredi Gonzalez   Greg Gibson   \n",
       "1  03/31/2014  WAS  NYN  10       Mgr   Matt Williams   Clint Fagan   \n",
       "2  03/31/2014  CLE  OAK   6       Ump    Mike Winters  Mike Winters   \n",
       "3  03/31/2014  CHN  PIT   5       Mgr   Rich Renteria  Bob Davidson   \n",
       "4  03/31/2014  PIT  CHN  10       Mgr    Clint Hurdle  Bob Davidson   \n",
       "\n",
       "           Type      Ruling  Time  \n",
       "0    Force play  Overturned  1:05  \n",
       "1    Force play   Confirmed  1:44  \n",
       "2  HP collision   Confirmed  1:06  \n",
       "3    Force play   Confirmed  1:39  \n",
       "4      Tag play  Overturned  1:46  "
      ]
     },
     "execution_count": 105,
     "metadata": {},
     "output_type": "execute_result"
    }
   ],
   "source": [
    "ump_table.head()"
   ]
  },
  {
   "cell_type": "code",
   "execution_count": 106,
   "metadata": {
    "collapsed": false
   },
   "outputs": [],
   "source": [
    "#stripped out whitespace\n",
    "for col in ump_table:\n",
    "    try:\n",
    "        ump_table[col].apply(lambda x: x.rstrip(),axis=1)\n",
    "    except:\n",
    "        pass"
   ]
  },
  {
   "cell_type": "code",
   "execution_count": 107,
   "metadata": {
    "collapsed": false
   },
   "outputs": [],
   "source": [
    "#created dictionary to map full name of team to abbreviation, to merge together both datasets\n",
    "team_abbrev={\n",
    "    'Giants':'SFN',\n",
    "    'Angels':'ANA',\n",
    "    'Astros':'HOU',\n",
    "    'Athletics':'OAK',\n",
    "    'Blue Jays':'TOR',\n",
    "    'Braves':'ATL',\n",
    "    'Brewers':'MIL',\n",
    "    'Cardinals':'SLN',\n",
    "    'Cubs':'CHN',\n",
    "    'D-backs':'ARI',\n",
    "    'Dodgers':'LAN',\n",
    "    'Indians':'CLE',\n",
    "    'Mariners':'SEA',\n",
    "    'Marlins':'MIA',\n",
    "    'Mets':'NYN',\n",
    "    'Nationals':'WAS',\n",
    "    'Orioles':'BAL',\n",
    "    'Padres':'SDN',\n",
    "    'Phillies':'PHI',\n",
    "    'Pirates':'PIT',\n",
    "    'Rangers':'TEX',\n",
    "    'Rays':'TBA',\n",
    "    'Red Sox':'BOS',\n",
    "    'Reds':'CIN',\n",
    "    'Rockies':'COL',\n",
    "    'Royals':'KCA',\n",
    "    'Tigers':'DET',\n",
    "    'Twins':'MIN',\n",
    "    'White Sox':'CHA',\n",
    "    'Yankees':'NYA',\n",
    "    'Umpire':'UMP',\n",
    "    'NL':'NL'\n",
    "    \n",
    "}"
   ]
  },
  {
   "cell_type": "code",
   "execution_count": 108,
   "metadata": {
    "collapsed": true
   },
   "outputs": [],
   "source": [
    "#reverse the dicitonary to enable mapping back and forth\n",
    "inv_teams = {team_abbr: team for team, team_abbr in team_abbrev.items()}"
   ]
  },
  {
   "cell_type": "code",
   "execution_count": 109,
   "metadata": {
    "collapsed": false
   },
   "outputs": [],
   "source": [
    "#make the changes to abbrev.\n",
    "challenges.challenger=challenges.challenger.apply(lambda x: team_abbrev[x])"
   ]
  },
  {
   "cell_type": "code",
   "execution_count": 110,
   "metadata": {
    "collapsed": false
   },
   "outputs": [
    {
     "data": {
      "text/html": [
       "<div>\n",
       "<table border=\"1\" class=\"dataframe\">\n",
       "  <thead>\n",
       "    <tr style=\"text-align: right;\">\n",
       "      <th></th>\n",
       "      <th>Date</th>\n",
       "      <th>Tm</th>\n",
       "      <th>Opp</th>\n",
       "      <th>In</th>\n",
       "      <th>Init_type</th>\n",
       "      <th>Initiator</th>\n",
       "      <th>Umpire</th>\n",
       "      <th>Type</th>\n",
       "      <th>Ruling</th>\n",
       "      <th>Time</th>\n",
       "    </tr>\n",
       "  </thead>\n",
       "  <tbody>\n",
       "    <tr>\n",
       "      <th>0</th>\n",
       "      <td>03/31/2014</td>\n",
       "      <td>ATL</td>\n",
       "      <td>MIL</td>\n",
       "      <td>6</td>\n",
       "      <td>Mgr</td>\n",
       "      <td>Fredi Gonzalez</td>\n",
       "      <td>Greg Gibson</td>\n",
       "      <td>Force play</td>\n",
       "      <td>Overturned</td>\n",
       "      <td>1:05</td>\n",
       "    </tr>\n",
       "    <tr>\n",
       "      <th>1</th>\n",
       "      <td>03/31/2014</td>\n",
       "      <td>WAS</td>\n",
       "      <td>NYN</td>\n",
       "      <td>10</td>\n",
       "      <td>Mgr</td>\n",
       "      <td>Matt Williams</td>\n",
       "      <td>Clint Fagan</td>\n",
       "      <td>Force play</td>\n",
       "      <td>Confirmed</td>\n",
       "      <td>1:44</td>\n",
       "    </tr>\n",
       "    <tr>\n",
       "      <th>2</th>\n",
       "      <td>03/31/2014</td>\n",
       "      <td>CLE</td>\n",
       "      <td>OAK</td>\n",
       "      <td>6</td>\n",
       "      <td>Ump</td>\n",
       "      <td>Mike Winters</td>\n",
       "      <td>Mike Winters</td>\n",
       "      <td>HP collision</td>\n",
       "      <td>Confirmed</td>\n",
       "      <td>1:06</td>\n",
       "    </tr>\n",
       "    <tr>\n",
       "      <th>3</th>\n",
       "      <td>03/31/2014</td>\n",
       "      <td>CHN</td>\n",
       "      <td>PIT</td>\n",
       "      <td>5</td>\n",
       "      <td>Mgr</td>\n",
       "      <td>Rich Renteria</td>\n",
       "      <td>Bob Davidson</td>\n",
       "      <td>Force play</td>\n",
       "      <td>Confirmed</td>\n",
       "      <td>1:39</td>\n",
       "    </tr>\n",
       "    <tr>\n",
       "      <th>4</th>\n",
       "      <td>03/31/2014</td>\n",
       "      <td>PIT</td>\n",
       "      <td>CHN</td>\n",
       "      <td>10</td>\n",
       "      <td>Mgr</td>\n",
       "      <td>Clint Hurdle</td>\n",
       "      <td>Bob Davidson</td>\n",
       "      <td>Tag play</td>\n",
       "      <td>Overturned</td>\n",
       "      <td>1:46</td>\n",
       "    </tr>\n",
       "  </tbody>\n",
       "</table>\n",
       "</div>"
      ],
      "text/plain": [
       "         Date   Tm  Opp  In Init_type       Initiator        Umpire  \\\n",
       "0  03/31/2014  ATL  MIL   6       Mgr  Fredi Gonzalez   Greg Gibson   \n",
       "1  03/31/2014  WAS  NYN  10       Mgr   Matt Williams   Clint Fagan   \n",
       "2  03/31/2014  CLE  OAK   6       Ump    Mike Winters  Mike Winters   \n",
       "3  03/31/2014  CHN  PIT   5       Mgr   Rich Renteria  Bob Davidson   \n",
       "4  03/31/2014  PIT  CHN  10       Mgr    Clint Hurdle  Bob Davidson   \n",
       "\n",
       "           Type      Ruling  Time  \n",
       "0    Force play  Overturned  1:05  \n",
       "1    Force play   Confirmed  1:44  \n",
       "2  HP collision   Confirmed  1:06  \n",
       "3    Force play   Confirmed  1:39  \n",
       "4      Tag play  Overturned  1:46  "
      ]
     },
     "execution_count": 110,
     "metadata": {},
     "output_type": "execute_result"
    }
   ],
   "source": [
    "ump_table.head()"
   ]
  },
  {
   "cell_type": "code",
   "execution_count": 111,
   "metadata": {
    "collapsed": false
   },
   "outputs": [],
   "source": [
    "#create new column in umpire dataset to impute who challenged call\n",
    "ump_table['challenger2']=np.where(ump_table['Init_type']=='Ump','UMP',ump_table['Tm'])"
   ]
  },
  {
   "cell_type": "code",
   "execution_count": 112,
   "metadata": {
    "collapsed": true
   },
   "outputs": [],
   "source": [
    "#map the play category from one dataset to another\n",
    "play_dict={\n",
    "    'catch or drop':'Catch/no catch',\n",
    " 'fair or foul in outfield':'Fair/foul (outfield)',\n",
    " 'fan interference':'Fan interference',\n",
    " 'force play':'Force play',\n",
    " 'grounds rule':'Grounds rule',\n",
    " 'hit by pitch':'Hit by pitch',\n",
    " 'home run':'Home run',\n",
    " 'home-plate collision':'HP collision',\n",
    " 'other':'Other',\n",
    " 'passing runners':'Passing runners',\n",
    " 'play at 1st':'Force play',\n",
    " 'record keeping':'Rcd keeping',\n",
    " 'rules check':'Rules check',\n",
    " 'slide interference':'Slide rule',\n",
    " 'stadium boundary call':'Boundary call',\n",
    " 'tag play':'Tag play',\n",
    " 'tag-up play':'Tag-up',\n",
    " 'timing play':'Timing play',\n",
    " 'touching a base':'Touching a base',\n",
    " 'trap play':'Trap play (outfield)'\n",
    "}"
   ]
  },
  {
   "cell_type": "code",
   "execution_count": 113,
   "metadata": {
    "collapsed": false
   },
   "outputs": [],
   "source": [
    "challenges.play_type=challenges.play_type.apply(lambda x: play_dict[x])"
   ]
  },
  {
   "cell_type": "code",
   "execution_count": 114,
   "metadata": {
    "collapsed": false
   },
   "outputs": [],
   "source": [
    "#change innings to num\n",
    "ump_table.In=pd.to_numeric(ump_table.In)\n"
   ]
  },
  {
   "cell_type": "code",
   "execution_count": 115,
   "metadata": {
    "collapsed": false
   },
   "outputs": [],
   "source": [
    "#change date to datetime\n",
    "challenges.date=pd.to_datetime(challenges.date)"
   ]
  },
  {
   "cell_type": "code",
   "execution_count": 116,
   "metadata": {
    "collapsed": false
   },
   "outputs": [],
   "source": [
    "ump_table.Date=pd.to_datetime(ump_table.Date)"
   ]
  },
  {
   "cell_type": "code",
   "execution_count": 117,
   "metadata": {
    "collapsed": false
   },
   "outputs": [],
   "source": [
    "#eliminates duplicate rows, which were found in mlb.com dataset\n",
    "challenges=challenges.drop_duplicates(['date','description'])"
   ]
  },
  {
   "cell_type": "code",
   "execution_count": 118,
   "metadata": {
    "collapsed": false
   },
   "outputs": [],
   "source": [
    "#modify mlb.com df to drop out the more recent challenges that are not yet recorded by retrosheet\n",
    "short_challenges=challenges[challenges.date<=sorted(ump_table.Date)[-1]]"
   ]
  },
  {
   "cell_type": "code",
   "execution_count": 119,
   "metadata": {
    "collapsed": false
   },
   "outputs": [],
   "source": [
    "#merge both datasets\n",
    "inner_merge=ump_table.merge(short_challenges,how='inner', left_on=['challenger2','In','Date'], right_on=['challenger','inning','date']).sort_values('Date')"
   ]
  },
  {
   "cell_type": "code",
   "execution_count": 120,
   "metadata": {
    "collapsed": false
   },
   "outputs": [],
   "source": [
    "#make day of week variable (based on SABR showing it's predictive)\n",
    "inner_merge['day']=inner_merge.date.dt.dayofweek"
   ]
  },
  {
   "cell_type": "code",
   "execution_count": 121,
   "metadata": {
    "collapsed": false
   },
   "outputs": [],
   "source": [
    "#standardize the play call labels\n",
    "inner_merge.Ruling=inner_merge.Ruling.apply(lambda x: x.rstrip())"
   ]
  },
  {
   "cell_type": "code",
   "execution_count": 122,
   "metadata": {
    "collapsed": false
   },
   "outputs": [],
   "source": [
    "#get rid of retrosheet's 'Rcd keeping' box and default to mlb's ruling (assuming 0=confirmed)\n",
    "inner_merge['ruling_res']=np.where(inner_merge.Ruling=='Rcd keeping', inner_merge.overturned,inner_merge.Ruling)"
   ]
  },
  {
   "cell_type": "code",
   "execution_count": 123,
   "metadata": {
    "collapsed": true
   },
   "outputs": [],
   "source": [
    "#delete the All-Star Game entry\n",
    "inner_merge = inner_merge[inner_merge.challenger2 != 'NL']"
   ]
  },
  {
   "cell_type": "code",
   "execution_count": 124,
   "metadata": {
    "collapsed": false
   },
   "outputs": [],
   "source": [
    "#convert ruling to binary number\n",
    "inner_merge.ruling_res=inner_merge.ruling_res.apply(lambda x: 'Confirmed' if x==0 else 'Overturned' if x==1 else x)"
   ]
  },
  {
   "cell_type": "code",
   "execution_count": 125,
   "metadata": {
    "collapsed": true
   },
   "outputs": [],
   "source": [
    "#inputs a feature in the inner_merge dataframe and calculates the 3 part breakdown of accuracy given the feature, \n",
    "#returns a dict with the unique features as keys \n",
    "def accuracy(feature):\n",
    "    accuracy_dict={}\n",
    "    unique_vars=feature.unique()\n",
    "    for case in unique_vars:\n",
    "        total=len(inner_merge[feature==case])\n",
    "        overturned=len(inner_merge[(feature==case)&(inner_merge.ruling_res=='Overturned')])\n",
    "        stands=len(inner_merge[(feature==case)&(inner_merge.ruling_res=='Stands')])\n",
    "        confirmed=len(inner_merge[(feature==case)&(inner_merge.ruling_res=='Confirmed')])\n",
    "        accuracy_dict[case]=[float(overturned)/total,float(stands)/total,float(confirmed)/total,total]\n",
    "        \n",
    "    return accuracy_dict\n"
   ]
  },
  {
   "cell_type": "code",
   "execution_count": 126,
   "metadata": {
    "collapsed": true
   },
   "outputs": [],
   "source": [
    "#create dictionaries that break down the distribution of overturned/stands/confirmed for each unique subcategory\n",
    "challenger_dict=accuracy(inner_merge.challenger2)\n",
    "umpire_dict=accuracy(inner_merge.Umpire)\n",
    "play_dict=accuracy(inner_merge.play_type)\n",
    "day_dict=accuracy(inner_merge.day)\n",
    "inning_dict=accuracy(inner_merge.inning)"
   ]
  },
  {
   "cell_type": "code",
   "execution_count": 127,
   "metadata": {
    "collapsed": true
   },
   "outputs": [],
   "source": [
    "#create new vals for accuracy given each situation\n",
    "inner_merge['team_overturned']=inner_merge.challenger2.apply(lambda x: challenger_dict[x][0])\n",
    "inner_merge['team_stands']=inner_merge.challenger2.apply(lambda x: challenger_dict[x][1])\n",
    "inner_merge['team_confirmed']=inner_merge.challenger2.apply(lambda x: challenger_dict[x][2])\n",
    "inner_merge['ump_ov']=inner_merge.Umpire.apply(lambda x: umpire_dict[x][0])\n",
    "inner_merge['ump_st']=inner_merge.Umpire.apply(lambda x: umpire_dict[x][1])\n",
    "inner_merge['ump_con']=inner_merge.Umpire.apply(lambda x: umpire_dict[x][2])\n",
    "inner_merge['type_ov']=inner_merge.play_type.apply(lambda x: play_dict[x][0])\n",
    "inner_merge['type_st']=inner_merge.play_type.apply(lambda x: play_dict[x][1])\n",
    "inner_merge['type_con']=inner_merge.play_type.apply(lambda x: play_dict[x][2])\n",
    "inner_merge['day_ov']=inner_merge.day.apply(lambda x: day_dict[x][0])\n",
    "inner_merge['day_st']=inner_merge.day.apply(lambda x: day_dict[x][1])\n",
    "inner_merge['day_con']=inner_merge.day.apply(lambda x: day_dict[x][2])\n",
    "inner_merge['inn_ov']=inner_merge.inning.apply(lambda x: inning_dict[x][0])\n",
    "inner_merge['inn_st']=inner_merge.inning.apply(lambda x: inning_dict[x][1])\n",
    "inner_merge['inn_con']=inner_merge.inning.apply(lambda x: inning_dict[x][2])"
   ]
  },
  {
   "cell_type": "code",
   "execution_count": 128,
   "metadata": {
    "collapsed": true
   },
   "outputs": [],
   "source": [
    "inner_merge['labels']=inner_merge.overturned.apply(lambda x: 1 if x=='Yes' else 0)"
   ]
  },
  {
   "cell_type": "code",
   "execution_count": 129,
   "metadata": {
    "collapsed": true
   },
   "outputs": [],
   "source": [
    "#used for modeling that includes team challenging\n",
    "X=inner_merge.iloc[:,-16:-1]"
   ]
  },
  {
   "cell_type": "code",
   "execution_count": 131,
   "metadata": {
    "collapsed": false
   },
   "outputs": [],
   "source": [
    "#used when exclude team challenging\n",
    "X2=inner_merge.iloc[:,-13:-1]"
   ]
  },
  {
   "cell_type": "code",
   "execution_count": 132,
   "metadata": {
    "collapsed": false
   },
   "outputs": [],
   "source": [
    "y=inner_merge['labels']"
   ]
  },
  {
   "cell_type": "code",
   "execution_count": 138,
   "metadata": {
    "collapsed": false
   },
   "outputs": [],
   "source": [
    "from sklearn.linear_model import LogisticRegression\n",
    "from sklearn.metrics import accuracy_score, precision_score, recall_score, f1_score,log_loss\n",
    "from sklearn.cross_validation import cross_val_score\n",
    "from sklearn.neighbors import KNeighborsClassifier\n",
    "from  sklearn.svm import SVC\n",
    "from sklearn.grid_search import GridSearchCV"
   ]
  },
  {
   "cell_type": "markdown",
   "metadata": {},
   "source": [
    "Using Logistic Regression and/or SVM to optimize for log-loss, trained on first set"
   ]
  },
  {
   "cell_type": "code",
   "execution_count": 139,
   "metadata": {
    "collapsed": false
   },
   "outputs": [],
   "source": [
    "log_reg=LogisticRegression()"
   ]
  },
  {
   "cell_type": "code",
   "execution_count": 137,
   "metadata": {
    "collapsed": false
   },
   "outputs": [
    {
     "data": {
      "text/plain": [
       "-0.61478277655527236"
      ]
     },
     "execution_count": 137,
     "metadata": {},
     "output_type": "execute_result"
    }
   ],
   "source": [
    "cross_val_score(log_reg,X,y,scoring='log_loss').mean()"
   ]
  },
  {
   "cell_type": "code",
   "execution_count": 140,
   "metadata": {
    "collapsed": true
   },
   "outputs": [],
   "source": [
    "svm=SVC(probability=True)"
   ]
  },
  {
   "cell_type": "code",
   "execution_count": 141,
   "metadata": {
    "collapsed": true
   },
   "outputs": [],
   "source": [
    "param_grid = [{'kernel': ['rbf'], 'gamma': [1,1e-1,1e-2,1e-3, 1e-4],\n",
    "                     'C': [1, 10, 100, 1000]},{'kernel': ['linear'], 'C': [1, 10, 100, 1000]},{'kernel':['poly'],'degree':[1,2,3]}]"
   ]
  },
  {
   "cell_type": "code",
   "execution_count": 142,
   "metadata": {
    "collapsed": false
   },
   "outputs": [
    {
     "data": {
      "text/plain": [
       "GridSearchCV(cv=None, error_score='raise',\n",
       "       estimator=SVC(C=1.0, cache_size=200, class_weight=None, coef0=0.0,\n",
       "  decision_function_shape=None, degree=3, gamma='auto', kernel='rbf',\n",
       "  max_iter=-1, probability=True, random_state=None, shrinking=True,\n",
       "  tol=0.001, verbose=False),\n",
       "       fit_params={}, iid=True, n_jobs=1,\n",
       "       param_grid=[{'kernel': ['rbf'], 'C': [1, 10, 100, 1000], 'gamma': [1, 0.1, 0.01, 0.001, 0.0001]}, {'kernel': ['linear'], 'C': [1, 10, 100, 1000]}, {'kernel': ['poly'], 'degree': [1, 2, 3]}],\n",
       "       pre_dispatch='2*n_jobs', refit=True, scoring='log_loss', verbose=0)"
      ]
     },
     "execution_count": 142,
     "metadata": {},
     "output_type": "execute_result"
    }
   ],
   "source": [
    "grid = GridSearchCV(svm, param_grid, scoring='log_loss')\n",
    "grid.fit(X, y)"
   ]
  },
  {
   "cell_type": "code",
   "execution_count": 143,
   "metadata": {
    "collapsed": false
   },
   "outputs": [
    {
     "name": "stdout",
     "output_type": "stream",
     "text": [
      "-0.612855525027\n",
      "{'kernel': 'linear', 'C': 1000}\n"
     ]
    }
   ],
   "source": [
    "print grid.best_score_\n",
    "print grid.best_params_"
   ]
  },
  {
   "cell_type": "code",
   "execution_count": 144,
   "metadata": {
    "collapsed": true
   },
   "outputs": [],
   "source": [
    "svm=SVC(kernel='linear',C=1000,probability=True)"
   ]
  },
  {
   "cell_type": "code",
   "execution_count": 145,
   "metadata": {
    "collapsed": false
   },
   "outputs": [
    {
     "data": {
      "text/plain": [
       "-0.61291663469162849"
      ]
     },
     "execution_count": 145,
     "metadata": {},
     "output_type": "execute_result"
    }
   ],
   "source": [
    "#SVM is better\n",
    "cross_val_score(svm,X,y,scoring='log_loss').mean()"
   ]
  },
  {
   "cell_type": "code",
   "execution_count": 200,
   "metadata": {
    "collapsed": false
   },
   "outputs": [
    {
     "data": {
      "text/plain": [
       "SVC(C=1000, cache_size=200, class_weight=None, coef0=0.0,\n",
       "  decision_function_shape=None, degree=3, gamma='auto', kernel='linear',\n",
       "  max_iter=-1, probability=True, random_state=None, shrinking=True,\n",
       "  tol=0.001, verbose=False)"
      ]
     },
     "execution_count": 200,
     "metadata": {},
     "output_type": "execute_result"
    }
   ],
   "source": [
    "svm.fit(X,y)"
   ]
  },
  {
   "cell_type": "markdown",
   "metadata": {},
   "source": [
    "Now, same for making model trained for dataset excluding team"
   ]
  },
  {
   "cell_type": "code",
   "execution_count": 146,
   "metadata": {
    "collapsed": true
   },
   "outputs": [],
   "source": [
    "log_reg2=LogisticRegression()"
   ]
  },
  {
   "cell_type": "code",
   "execution_count": 148,
   "metadata": {
    "collapsed": false
   },
   "outputs": [
    {
     "data": {
      "text/plain": [
       "-0.62057711181744113"
      ]
     },
     "execution_count": 148,
     "metadata": {},
     "output_type": "execute_result"
    }
   ],
   "source": [
    "cross_val_score(log_reg2,X2,y,scoring='log_loss').mean()"
   ]
  },
  {
   "cell_type": "code",
   "execution_count": 152,
   "metadata": {
    "collapsed": false
   },
   "outputs": [
    {
     "data": {
      "text/plain": [
       "LogisticRegression(C=1.0, class_weight=None, dual=False, fit_intercept=True,\n",
       "          intercept_scaling=1, max_iter=100, multi_class='ovr', n_jobs=1,\n",
       "          penalty='l2', random_state=None, solver='liblinear', tol=0.0001,\n",
       "          verbose=0, warm_start=False)"
      ]
     },
     "execution_count": 152,
     "metadata": {},
     "output_type": "execute_result"
    }
   ],
   "source": [
    "log_reg2.fit(X2,y)"
   ]
  },
  {
   "cell_type": "code",
   "execution_count": 149,
   "metadata": {
    "collapsed": true
   },
   "outputs": [],
   "source": [
    "svm2=SVC(probability=True)"
   ]
  },
  {
   "cell_type": "code",
   "execution_count": 150,
   "metadata": {
    "collapsed": false
   },
   "outputs": [
    {
     "data": {
      "text/plain": [
       "GridSearchCV(cv=None, error_score='raise',\n",
       "       estimator=SVC(C=1.0, cache_size=200, class_weight=None, coef0=0.0,\n",
       "  decision_function_shape=None, degree=3, gamma='auto', kernel='rbf',\n",
       "  max_iter=-1, probability=True, random_state=None, shrinking=True,\n",
       "  tol=0.001, verbose=False),\n",
       "       fit_params={}, iid=True, n_jobs=1,\n",
       "       param_grid=[{'kernel': ['rbf'], 'C': [1, 10, 100, 1000], 'gamma': [1, 0.1, 0.01, 0.001, 0.0001]}, {'kernel': ['linear'], 'C': [1, 10, 100, 1000]}, {'kernel': ['poly'], 'degree': [1, 2, 3]}],\n",
       "       pre_dispatch='2*n_jobs', refit=True, scoring='log_loss', verbose=0)"
      ]
     },
     "execution_count": 150,
     "metadata": {},
     "output_type": "execute_result"
    }
   ],
   "source": [
    "grid = GridSearchCV(svm2, param_grid, scoring='log_loss')\n",
    "grid.fit(X2, y)"
   ]
  },
  {
   "cell_type": "code",
   "execution_count": 151,
   "metadata": {
    "collapsed": false
   },
   "outputs": [
    {
     "name": "stdout",
     "output_type": "stream",
     "text": [
      "-0.620760065367\n",
      "{'kernel': 'rbf', 'C': 100, 'gamma': 0.01}\n"
     ]
    }
   ],
   "source": [
    "print grid.best_score_\n",
    "print grid.best_params_"
   ]
  },
  {
   "cell_type": "markdown",
   "metadata": {
    "collapsed": true
   },
   "source": [
    "Logistic Regression Performs better"
   ]
  },
  {
   "cell_type": "markdown",
   "metadata": {},
   "source": [
    "Now, the model will output expected probability. Now we have to convert that value taking into consideration that we are modeling on all \"challengeable\" plays. To model the total number of reasonably \"challengeable\" plays find the max for any team. To model the total \"successes\" find the max of successes for any team. (Maybe come back to it, but find the umpire challenges also)."
   ]
  },
  {
   "cell_type": "code",
   "execution_count": 153,
   "metadata": {
    "collapsed": false
   },
   "outputs": [],
   "source": [
    "team_games={'ANA': 3,\n",
    " 'ARI': 0,\n",
    " 'ATL': 0,\n",
    " 'BAL': 7,\n",
    " 'BOS': 0,\n",
    " 'CHA': 0,\n",
    " 'CHN': 9,\n",
    " 'CIN': 0,\n",
    " 'CLE': 0,\n",
    " 'COL': 0,\n",
    " 'DET': 3,\n",
    " 'HOU': 6,\n",
    " 'KCA': 31,\n",
    " 'LAN': 9,\n",
    " 'MIA': 0,\n",
    " 'MIL': 0,\n",
    " 'MIN': 0,\n",
    " 'NYA': 1,\n",
    " 'NYN': 14,\n",
    " 'OAK': 1,\n",
    " 'PHI': 0,\n",
    " 'PIT': 2,\n",
    " 'SDN': 0,\n",
    " 'SEA': 0,\n",
    " 'SFN': 16,\n",
    " 'SLN': 13,\n",
    " 'TBA': 0,\n",
    " 'TEX': 5,\n",
    " 'TOR': 11,\n",
    " 'UMP': 0,\n",
    " 'WAS': 4}"
   ]
  },
  {
   "cell_type": "code",
   "execution_count": 154,
   "metadata": {
    "collapsed": false
   },
   "outputs": [
    {
     "data": {
      "text/plain": [
       "6517"
      ]
     },
     "execution_count": 154,
     "metadata": {},
     "output_type": "execute_result"
    }
   ],
   "source": [
    "#calculating total umpire games\n",
    "162*2*30/2+27*3*30/2+25*30/2+67"
   ]
  },
  {
   "cell_type": "code",
   "execution_count": 155,
   "metadata": {
    "collapsed": false
   },
   "outputs": [],
   "source": [
    "#calculate games played per team, 162 for 2 + 106 from 2016 (through 7/31) plus playoffs, ump=6515 from previous summing\n",
    "inner_merge['games_played']=inner_merge.challenger2.apply(lambda x: 162*2+106+team_games[x] if x!='UMP' else 6517)"
   ]
  },
  {
   "cell_type": "code",
   "execution_count": 156,
   "metadata": {
    "collapsed": false
   },
   "outputs": [],
   "source": [
    "#total challenges for a team\n",
    "inner_merge['tot_challenges']=inner_merge.challenger2.apply(lambda x: len(inner_merge[inner_merge.challenger2==x]))"
   ]
  },
  {
   "cell_type": "code",
   "execution_count": 157,
   "metadata": {
    "collapsed": false
   },
   "outputs": [],
   "source": [
    "#divided by total games played\n",
    "inner_merge['challenge_p_g']=inner_merge.tot_challenges/inner_merge.games_played"
   ]
  },
  {
   "cell_type": "code",
   "execution_count": 158,
   "metadata": {
    "collapsed": false
   },
   "outputs": [],
   "source": [
    "#total succesful challenges per team per game\n",
    "inner_merge['tot_suc']=inner_merge.challenger2.apply(lambda x: len(inner_merge[(inner_merge.challenger2==x)&(inner_merge.overturned=='Yes')]))"
   ]
  },
  {
   "cell_type": "code",
   "execution_count": 159,
   "metadata": {
    "collapsed": false
   },
   "outputs": [],
   "source": [
    "#total successful challenges per team per game\n",
    "inner_merge['tot_suc_p_g']=inner_merge.tot_suc/inner_merge.games_played"
   ]
  },
  {
   "cell_type": "code",
   "execution_count": 160,
   "metadata": {
    "collapsed": true
   },
   "outputs": [],
   "source": [
    "#list of challenges only iniatable by umpire\n",
    "ump_plays=[x for x in inner_merge.play_type.unique() if x not in inner_merge[inner_merge.challenger2!='UMP'].play_type.unique()]"
   ]
  },
  {
   "cell_type": "code",
   "execution_count": 162,
   "metadata": {
    "collapsed": true
   },
   "outputs": [],
   "source": [
    "#total umpire initiated challenges\n",
    "tot_ump_c=len(inner_merge[(inner_merge.play_type.isin(ump_plays)==False)&(inner_merge.challenger2=='UMP')])/2"
   ]
  },
  {
   "cell_type": "code",
   "execution_count": 163,
   "metadata": {
    "collapsed": true
   },
   "outputs": [],
   "source": [
    "#total umpire-initiated where overturned\n",
    "tot_ump_s=len(inner_merge[(inner_merge.play_type.isin(ump_plays)==False)&(inner_merge.challenger2=='UMP')&(inner_merge.overturned=='Yes')])/2"
   ]
  },
  {
   "cell_type": "code",
   "execution_count": 164,
   "metadata": {
    "collapsed": true
   },
   "outputs": [],
   "source": [
    "#average umpire issued challenges per game\n",
    "ucpg=float(tot_ump_c)/6517"
   ]
  },
  {
   "cell_type": "code",
   "execution_count": 165,
   "metadata": {
    "collapsed": true
   },
   "outputs": [],
   "source": [
    "#average umpire overturned per game\n",
    "uspg=float(tot_ump_s)/6517"
   ]
  },
  {
   "cell_type": "code",
   "execution_count": 175,
   "metadata": {
    "collapsed": true
   },
   "outputs": [],
   "source": [
    "#average team challenge per game\n",
    "avg_c_p_g=inner_merge[inner_merge.challenger2!='UMP'].groupby('challenger2').challenge_p_g.mean().mean()"
   ]
  },
  {
   "cell_type": "code",
   "execution_count": 176,
   "metadata": {
    "collapsed": true
   },
   "outputs": [],
   "source": [
    "#average team success per game\n",
    "avg_s_p_g=inner_merge[inner_merge.challenger2!='UMP'].groupby('challenger2').tot_suc_p_g.mean().mean()"
   ]
  },
  {
   "cell_type": "code",
   "execution_count": 181,
   "metadata": {
    "collapsed": false
   },
   "outputs": [],
   "source": [
    "#approximating \"close calls\" set by finding most aggressive and most succesfull counts\n",
    "max_c_p_g=inner_merge.challenge_p_g.unique().max()+ucpg"
   ]
  },
  {
   "cell_type": "code",
   "execution_count": 184,
   "metadata": {
    "collapsed": false
   },
   "outputs": [],
   "source": [
    "max_s_p_g=inner_merge.tot_suc_p_g.unique().max()+uspg"
   ]
  },
  {
   "cell_type": "code",
   "execution_count": 189,
   "metadata": {
    "collapsed": false
   },
   "outputs": [],
   "source": [
    "#finally, we use conv_f to factor in how much to lower the output of the probability model\n",
    "conv_f=(max_s_p_g/max_c_p_g)/(avg_s_p_g/avg_c_p_g)"
   ]
  },
  {
   "cell_type": "code",
   "execution_count": 190,
   "metadata": {
    "collapsed": false
   },
   "outputs": [
    {
     "data": {
      "text/plain": [
       "0.93218625109714881"
      ]
     },
     "execution_count": 190,
     "metadata": {},
     "output_type": "execute_result"
    }
   ],
   "source": [
    "conv_f"
   ]
  },
  {
   "cell_type": "markdown",
   "metadata": {},
   "source": [
    "# Part III Calculate the \"opportunity cost\" of a lost challenge"
   ]
  },
  {
   "cell_type": "code",
   "execution_count": 191,
   "metadata": {
    "collapsed": false
   },
   "outputs": [],
   "source": [
    "import mlbgame"
   ]
  },
  {
   "cell_type": "code",
   "execution_count": 192,
   "metadata": {
    "collapsed": false
   },
   "outputs": [],
   "source": [
    "#winner function inputs a team and date and leverages mlbgame package to output if the team won that game\n",
    "def winner(challenger,date):\n",
    "    winner=mlbgame.day(date.year,date.month,date.day,home=inv_teams[challenger],away=inv_teams[challenger])\n",
    "    if len(winner)<1:\n",
    "        return 'Wrong Input'\n",
    "    elif winner[0].w_team==inv_teams[challenger]:\n",
    "        return 1\n",
    "    else:\n",
    "        return 0"
   ]
  },
  {
   "cell_type": "code",
   "execution_count": 193,
   "metadata": {
    "collapsed": true
   },
   "outputs": [],
   "source": [
    "inner_merge['won_game']=inner_merge.apply(lambda row: winner(row['Tm'], row['Date']), axis=1)"
   ]
  },
  {
   "cell_type": "code",
   "execution_count": 194,
   "metadata": {
    "collapsed": false
   },
   "outputs": [],
   "source": [
    "#finding winning percentage, given lost challenge\n",
    "winning_pct_lost=inner_merge[(inner_merge.challenger2!='UMP')&(inner_merge.overturned=='No')].won_game.mean()"
   ]
  },
  {
   "cell_type": "code",
   "execution_count": 195,
   "metadata": {
    "collapsed": false
   },
   "outputs": [],
   "source": [
    "#finding winning percentage, given won challenge\n",
    "winning_pct_won=inner_merge[(inner_merge.challenger2!='UMP')&(inner_merge.overturned=='Yes')].won_game.mean()"
   ]
  },
  {
   "cell_type": "code",
   "execution_count": 196,
   "metadata": {
    "collapsed": false
   },
   "outputs": [],
   "source": [
    "ocpo=(.5-inner_merge[(inner_merge.challenger2!='UMP')&(inner_merge.overturned=='No')&(inner_merge.inning==1)].won_game.mean())/49"
   ]
  },
  {
   "cell_type": "code",
   "execution_count": 197,
   "metadata": {
    "collapsed": false
   },
   "outputs": [
    {
     "data": {
      "text/plain": [
       "0.00029720626114523467"
      ]
     },
     "execution_count": 197,
     "metadata": {},
     "output_type": "execute_result"
    }
   ],
   "source": [
    "#opportunity cost per out\n",
    "ocpo"
   ]
  },
  {
   "cell_type": "markdown",
   "metadata": {},
   "source": [
    "# Testing Model"
   ]
  },
  {
   "cell_type": "markdown",
   "metadata": {},
   "source": [
    "Inputs needed:\n",
    "1. Team\n",
    "2. day\n",
    "3. umpire\n",
    "4. play type\n",
    "5. before challenge\n",
    " - Inning\n",
    " - Top/Bottom\n",
    " - Outs\n",
    " - Runners on What base\n",
    " - score differential\n",
    "6. after challenge:\n",
    " - Inning\n",
    " - Top/Bottom\n",
    " - Outs\n",
    " - Runners on What base\n",
    " - score differential\n",
    "7. team vs. general variable"
   ]
  },
  {
   "cell_type": "code",
   "execution_count": 203,
   "metadata": {
    "collapsed": false
   },
   "outputs": [],
   "source": [
    "#logistic regression with gridsearch\n",
    "def exp_val(team,day,umpire,play_type,inning1,inning2,half1,half2,outs1,outs2,fb1,fb2,sb1,sb2,tb1,tb2,dif1,dif2,weights=.5):\n",
    "\n",
    "    #finds the potential gain of an overturned call in WPA\n",
    "    gain=abs(win_exp(inning2,half2,fb2,sb2,tb2,outs2,dif2)-win_exp(inning1,half1,fb1,sb1,tb1,outs1,dif1))\n",
    "    \n",
    "    #transforms the input data into a vector to feed into the model\n",
    "    vec=[challenger_dict[team][0],\n",
    "    challenger_dict[team][1], \n",
    "    challenger_dict[team][2],\n",
    "    umpire_dict[umpire][0],\n",
    "    umpire_dict[umpire][1],\n",
    "    umpire_dict[umpire][2],\n",
    "    play_dict[play_type][0],\n",
    "    play_dict[play_type][1],\n",
    "    play_dict[play_type][2],\n",
    "    day_dict[day][0],\n",
    "    day_dict[day][1],\n",
    "    day_dict[day][2],\n",
    "    inning_dict[inning1][0],\n",
    "    inning_dict[inning1][1],\n",
    "    inning_dict[inning1][2]]\n",
    "    \n",
    "    #generates the probability of success, using team tendency\n",
    "    prob=svm.predict_proba(vec)[0][1]\n",
    "    \n",
    "    #generates the probability of success based on general model\n",
    "    prob2=(log_reg2.predict_proba(vec[3:])[0][1])*conv_f\n",
    "    \n",
    "    #attaches weights to each of the two probabilities\n",
    "    weighted_prob=weights*prob+(1-weights)*prob2\n",
    "    \n",
    "    #multiplies all together to get the expected upside of overturned call\n",
    "    upside=gain*weighted_prob\n",
    "    \n",
    "    #find out how many outs remaining to project downside of call\n",
    "    if half1==1:\n",
    "        remaining=(9-inning1)*6+4+3+3-outs1\n",
    "    else:\n",
    "        remaining=(9-inning1)*6+4+3-outs1\n",
    "    \n",
    "    #downside is number of outs remaining times cost per out\n",
    "    downside=(1-weighted_prob)*remaining*ocpo\n",
    "    \n",
    "    print 'Expected upside:', upside\n",
    "    print 'Expected downside: ', downside\n",
    "    print 'Net Gain: ', upside-downside\n",
    "    return "
   ]
  },
  {
   "cell_type": "code",
   "execution_count": 204,
   "metadata": {
    "collapsed": false
   },
   "outputs": [
    {
     "name": "stdout",
     "output_type": "stream",
     "text": [
      "Expected upside: 0.0719264455751\n",
      "Expected downside:  0.00544558303519\n",
      "Net Gain:  0.0664808625399\n"
     ]
    },
    {
     "name": "stderr",
     "output_type": "stream",
     "text": [
      "/Users/moshelaster/anaconda/lib/python2.7/site-packages/sklearn/utils/validation.py:386: DeprecationWarning: Passing 1d arrays as data is deprecated in 0.17 and willraise ValueError in 0.19. Reshape your data either using X.reshape(-1, 1) if your data has a single feature or X.reshape(1, -1) if it contains a single sample.\n",
      "  DeprecationWarning)\n",
      "/Users/moshelaster/anaconda/lib/python2.7/site-packages/sklearn/utils/validation.py:386: DeprecationWarning: Passing 1d arrays as data is deprecated in 0.17 and willraise ValueError in 0.19. Reshape your data either using X.reshape(-1, 1) if your data has a single feature or X.reshape(1, -1) if it contains a single sample.\n",
      "  DeprecationWarning)\n"
     ]
    }
   ],
   "source": [
    "#predict a Mets overturned call, on Tuesday, Joe West umpire, force play at home, 1st inning none on no outs\n",
    "exp_val('NYN',3,'Joe West','Force play',1,1,1,1,1,0,0,1,0,0,0,0,0,0,0)"
   ]
  },
  {
   "cell_type": "code",
   "execution_count": null,
   "metadata": {
    "collapsed": true
   },
   "outputs": [],
   "source": []
  }
 ],
 "metadata": {
  "kernelspec": {
   "display_name": "Python 2",
   "language": "python",
   "name": "python2"
  },
  "language_info": {
   "codemirror_mode": {
    "name": "ipython",
    "version": 2
   },
   "file_extension": ".py",
   "mimetype": "text/x-python",
   "name": "python",
   "nbconvert_exporter": "python",
   "pygments_lexer": "ipython2",
   "version": "2.7.12"
  }
 },
 "nbformat": 4,
 "nbformat_minor": 0
}
